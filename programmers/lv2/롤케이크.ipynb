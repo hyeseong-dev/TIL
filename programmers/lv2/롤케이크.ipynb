{
 "cells": [
  {
   "cell_type": "code",
   "execution_count": 6,
   "metadata": {},
   "outputs": [],
   "source": [
    "from collections import Counter\n",
    "\n",
    "def solution(toppings):\n",
    "    # 토핑 종류별 개수를 세는 딕셔너리 생성\n",
    "    toppings_count = Counter(toppings)\n",
    "\n",
    "    # 고유한 토핑의 종류를 저장하는 집합\n",
    "    unique_toppings = set()\n",
    "\n",
    "    # 공평하게 자를 수 있는 경우의 수 카운트\n",
    "    fair_cut_count = 0\n",
    "\n",
    "    # 토핑 배열 순회\n",
    "    for single_topping in toppings:\n",
    "        # 토핑 종류별 개수에서 해당 토핑 개수 감소\n",
    "        toppings_count[single_topping] -= 1\n",
    "\n",
    "        # 고유한 토핑의 종류 집합에 추가\n",
    "        unique_toppings.add(single_topping)\n",
    "\n",
    "        # 만약 해당 토핑의 개수가 0이 되면, 딕셔너리에서 제거\n",
    "        if toppings_count[single_topping] == 0:\n",
    "            del toppings_count[single_topping]\n",
    "\n",
    "        # 토핑 종류별 개수의 키의 개수와 고유한 토핑의 종류의 개수가 같으면, 공평하게 자를 수 있음\n",
    "        if len(toppings_count) == len(unique_toppings):\n",
    "            fair_cut_count += 1\n",
    "\n",
    "    return fair_cut_count"
   ]
  },
  {
   "cell_type": "code",
   "execution_count": 7,
   "metadata": {},
   "outputs": [
    {
     "name": "stdout",
     "output_type": "stream",
     "text": [
      "실제 결과:  2 예측 결과:  2\n",
      "실제 결과:  0 예측 결과:  0\n"
     ]
    }
   ],
   "source": [
    "raw_list = (\n",
    "    [[1, 2, 1, 3, 1, 4, 1, 2], \t2],\n",
    "    [[1, 2, 3, 1, 4], \t0]\n",
    ")\n",
    "for test in raw_list:\n",
    "    result = solution(test[0])\n",
    "    print(\"실제 결과: \", result, \"예측 결과: \", test[1])"
   ]
  },
  {
   "attachments": {},
   "cell_type": "markdown",
   "metadata": {},
   "source": [
    "\n",
    "### 시간, 공간 복잡도\n",
    "\n",
    "- 위 코드는 Counter 클래스와 set 클래스를 사용하여 토핑 배열의 각 요소의 개수를 카운트하고, 중복을 제거하여 고유한 토핑의 종류를 저장합니다. 따라서 위 코드에서 사용되는 자료형 데이터 구조는 딕셔너리(Counter 클래스)와 집합(set 클래스)입니다.\n",
    "    \n",
    "- 시간 복잡도는 O(n)입니다. n은 토핑 배열의 길이입니다. 코드에서 토핑 배열을 한 번 순회하며, 각 토핑에 대해 O(1)의 작업을 수행하므로, 전체 시간 복잡도는 O(n)입니다.\n",
    "    \n",
    "- 공간 복잡도는 O(n)입니다. n은 토핑 배열의 길이입니다. Counter 클래스와 set 클래스는 각각 토핑 종류별 개수와 고유한 토핑의 종류를 저장하기 위해 사용되며, 최대 n개의 요소를 저장할 수 있으므로, 공간 복잡도는 O(n)입니다.\n"
   ]
  },
  {
   "cell_type": "code",
   "execution_count": 4,
   "metadata": {},
   "outputs": [
    {
     "name": "stdout",
     "output_type": "stream",
     "text": [
      "2\n",
      "0\n"
     ]
    }
   ],
   "source": [
    "import java.util.*;\n",
    "\n",
    "public class Solution {\n",
    "    public static int solution(int[] topping) {\n",
    "        \n",
    "        // 토핑 종류별 개수를 세는 맵 생성\n",
    "        Map<Integer, Integer> toppingCount = new HashMap<>();\n",
    "        Set<Integer> uniqueToppings = new HashSet<>();\n",
    "\n",
    "        int size = topping.length;\n",
    "\n",
    "        // 공평하게 자를 수 있는 경우의 수 카운트\n",
    "        int fairCutCount = 0;\n",
    "\n",
    "        uniqueToppings.add(topping[0]);\n",
    "        for (int singleTopping : topping) {\n",
    "            toppingCount.put(singleTopping, toppingCount.getOrDefault(singleTopping, 0) + 1);\n",
    "        }\n",
    "\n",
    "        // 토핑 배열 순회\n",
    "        for (int singleTopping : topping) {\n",
    "            // 고유한 토핑의 종류 집합에 추가\n",
    "            uniqueToppings.add(singleTopping);\n",
    "\n",
    "            // 토핑 종류별 개수에서 해당 토핑 개수 감소\n",
    "            toppingCount.put(singleTopping, toppingCount.get(singleTopping) - 1);\n",
    "\n",
    "        \n",
    "            // 만약 해당 토핑의 개수가 0이 되면, 맵에서 제거\n",
    "            if (toppingCount.get(singleTopping) == 0) {\n",
    "                toppingCount.remove(singleTopping);\n",
    "            }\n",
    "            // 토핑 종류별 개수의 키의 개수와 고유한 토핑의 종류의 개수가 같으면, 공평하게 자를 수 있음\n",
    "            if (toppingCount.size() == uniqueToppings.size()) {\n",
    "                fairCutCount++;\n",
    "            }\n",
    "        }\n",
    "\n",
    "        return fairCutCount;\n",
    "    }\n",
    "\n",
    "    public static void main() {\n",
    "        int[] topping = {1, 2, 1, 3, 1, 4, 1, 2};\n",
    "        System.out.println(solution(topping)); // 출력: 2\n",
    "\n",
    "        int[] topping2 = {1, 2, 3, 1, 4};\n",
    "        System.out.println(solution(topping2)); // 출력: 0\n",
    "    }\n",
    "}\n",
    "\n",
    "Solution.main()"
   ]
  },
  {
   "cell_type": "code",
   "execution_count": null,
   "metadata": {},
   "outputs": [],
   "source": []
  }
 ],
 "metadata": {
  "kernelspec": {
   "display_name": "Java",
   "language": "java",
   "name": "java"
  },
  "language_info": {
   "codemirror_mode": "java",
   "file_extension": ".jshell",
   "mimetype": "text/x-java-source",
   "name": "java",
   "pygments_lexer": "java",
   "version": "17.0.11+9-LTS"
  },
  "orig_nbformat": 4
 },
 "nbformat": 4,
 "nbformat_minor": 2
}
