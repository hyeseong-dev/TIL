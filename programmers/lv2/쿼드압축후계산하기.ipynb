{
 "cells": [
  {
   "attachments": {},
   "cell_type": "markdown",
   "metadata": {},
   "source": [
    "**문제 설명**\n",
    "---\n",
    "0과 1로 이루어진 2n x 2n 크기의 2차원 정수 배열 arr이 있습니다. 당신은 이 arr을 쿼드 트리와 같은 방식으로 압축하고자 합니다. 구체적인 방식은 다음과 같습니다.\n",
    "\n",
    "- 당신이 압축하고자 하는 특정 영역을 S라고 정의합니다.<br>\n",
    "- `만약 S 내부에 있는 모든 수가 같은 값이라면, S를 해당 수 하나로 압축시킵니다.`<br>\n",
    "그렇지 않다면, S를 정확히 `4개의 균일한 정사각형 영역`(입출력 예를 참고해주시기 바랍니다.)으로 쪼갠 뒤, 각 정사각형 영역에 대해 같은 방식의 압축을 시도합니다.<br>\n",
    "\n",
    "----\n",
    "\n",
    "arr이 매개변수로 주어집니다. 위와 같은 방식으로 arr을 압축했을 때, 배열에 최종적으로 남는 0의 개수와 1의 개수를 배열에 담아서 return 하도록 solution 함수를 완성해주세요.<br>\n",
    "\n",
    "**제한사항**\n",
    "----\n",
    "arr의 행의 개수는 1 이상 1024 이하이며, 2의 거듭 제곱수 형태를 하고 있습니다. 즉, arr의 행의 개수는 1, 2, 4, 8, ..., 1024 중 하나입니다.<br>\n",
    "arr의 각 행의 길이는 arr의 행의 개수와 같습니다. 즉, arr은 정사각형 배열입니다.<br>\n",
    "arr의 각 행에 있는 모든 값은 0 또는 1 입니다.<br>\n",
    "\n",
    "**입출력 예**\n",
    "---\n",
    "|arr| \tresult|\n",
    "|---|---|\n",
    "|[[1,1,0,0],[1,0,0,0],[1,0,0,1],[1,1,1,1]]| \t[4,9]|\n",
    "|[[1,1,1,1,1,1,1,1],[0,1,1,1,1,1,1,1],[0,0,0,0,1,1,1,1],[0,1,0,0,1,1,1,1],[0,0,0,0,0,0,1,1],[0,0,0,0,0,0,0,1],[0,0,0,0,1,0,0,1],[0,0,0,0,1,1,1,1]] |\t[10,15]|"
   ]
  },
  {
   "attachments": {},
   "cell_type": "markdown",
   "metadata": {},
   "source": [
    "### 문제풀이 \n",
    "\n",
    "- 문제 설명에서 이것을 `분할정복` 문제임을 catch해야함. \n",
    "\n",
    "### 분할정복\n",
    "1. 작은영역으로 나누기 \n",
    "2. 나누어진 작은 영역을 계산 \n",
    "3. 필요 시, 해결된 답 모으기 "
   ]
  },
  {
   "cell_type": "code",
   "execution_count": null,
   "metadata": {
    "vscode": {
     "languageId": "java"
    }
   },
   "outputs": [],
   "source": [
    "package lv2;\n",
    "\n",
    "import java.util.StringJoiner;\n",
    "\n",
    "class DepressQuad {\n",
    "\n",
    "    static int[] answer = new int[2];\n",
    "\n",
    "    public int[] solution(int[][] arr) {\n",
    "        int totalSize = arr.length;\n",
    "        dq(0,0,totalSize,arr);\n",
    "\n",
    "        return answer;\n",
    "    }\n",
    "\n",
    "    private static void dq(int startX, int startY, int size, int[][] arr) {\n",
    "        if(check(startX, startY, size, arr)) {\n",
    "            answer[arr[startX][startY]]++;\n",
    "            return;\n",
    "        }\n",
    "        dq(startX, startY, size / 2, arr);\n",
    "        dq(startX + size / 2, startY, size / 2, arr);\n",
    "        dq(startX, startY + size / 2, size / 2, arr);\n",
    "        dq(startX + size / 2, startY + size / 2, size / 2, arr);\n",
    "    }\n",
    "\n",
    "    private static boolean check(int x, int y, int size, int[][] arr) {\n",
    "        for (int i = x; i < x + size; i++) {\n",
    "            for (int j = y; j < y + size; j++) {\n",
    "                if(arr[x][y] != arr[i][j]) return false;\n",
    "            }\n",
    "        }\n",
    "        return true;\n",
    "    }\n",
    "\n",
    "    public static void main(String[] args) {\n",
    "\n",
    "        DepressQuad depressQuad = new DepressQuad();\n",
    "       int[][] arr = {\n",
    "           {1,1,0,0},\n",
    "           {1,0,0,0},\n",
    "           {1,0,0,1},\n",
    "           {1,1,1,1}\n",
    "       };\n",
    "\n",
    "        // int[][] arr = {\n",
    "        //         {1,1,1,1,1,1,1,1},\n",
    "        //         {0,1,1,1,1,1,1,1},\n",
    "        //         {0,0,0,0,1,1,1,1},\n",
    "        //         {0,1,0,0,1,1,1,1},\n",
    "        //         {0,0,0,0,0,0,1,1},\n",
    "        //         {0,0,0,0,0,0,0,1},\n",
    "        //         {0,0,0,0,1,0,0,1},\n",
    "        //         {0,0,0,0,1,1,1,1}};\n",
    "\n",
    "        int[] result = depressQuad.solution(arr);\n",
    "\n",
    "\n",
    "        StringJoiner sj = new StringJoiner(\", \", \"[\", \"]\");\n",
    "        for (int i : result) {\n",
    "            sj.add(String.valueOf(i));\n",
    "        }\n",
    "        System.out.println(sj.toString());\n",
    "\n",
    "    }\n",
    "}\n"
   ]
  },
  {
   "attachments": {},
   "cell_type": "markdown",
   "metadata": {},
   "source": [
    "주어진 코드는 \"쿼드 트리 압축\" 문제를 해결하기 위한 Java 프로그램입니다. 이 문제에서는 주어진 2차원 배열을 특정 규칙에 따라 압축하는 것이 목표입니다."
   ]
  },
  {
   "attachments": {},
   "cell_type": "markdown",
   "metadata": {
    "vscode": {
     "languageId": "java"
    }
   },
   "source": [
    "1. 클래스 선언:\n",
    "\n",
    "    - DepressQuad 클래스는 쿼드 트리 압축을 수행하는 데 사용됩니다.\n",
    "    - answer 배열은 압축된 결과를 저장하는 데 사용됩니다."
   ]
  },
  {
   "cell_type": "code",
   "execution_count": null,
   "metadata": {
    "vscode": {
     "languageId": "java"
    }
   },
   "outputs": [],
   "source": []
  },
  {
   "attachments": {},
   "cell_type": "markdown",
   "metadata": {
    "vscode": {
     "languageId": "java"
    }
   },
   "source": [
    "2. solution 메서드:\n",
    "\n",
    "    - solution 메서드는 주어진 2차원 배열을 압축하여 결과를 반환합니다.\n",
    "    - 이 메서드는 배열의 크기와 시작 위치를 받아서 재귀적으로 압축을 수행하는 dq 메서드를 호출합니다."
   ]
  },
  {
   "cell_type": "code",
   "execution_count": null,
   "metadata": {
    "vscode": {
     "languageId": "java"
    }
   },
   "outputs": [],
   "source": []
  },
  {
   "attachments": {},
   "cell_type": "markdown",
   "metadata": {
    "vscode": {
     "languageId": "java"
    }
   },
   "source": [
    "3. dq 메서드:\n",
    "\n",
    " - dq 메서드는 재귀적으로 배열을 압축하는 역할을 합니다.\n",
    " - 주어진 영역이 한 가지 숫자로만 이루어져 있다면 해당 숫자의 개수를 answer 배열에 증가시킵니다.\n",
    " - 그렇지 않은 경우에는 영역을 4개의 작은 영역으로 분할하고 각각에 대해 다시 dq 메서드를 호출하여 재귀적으로 압축합니다.\n",
    "\n",
    "---\n",
    "\n",
    "```java\n",
    "    private static void dq(int startX, int startY, int size, int[][] arr) {\n",
    "        if(check(startX, startY, size, arr)) {\n",
    "            answer[arr[startX][startY]]++;\n",
    "            return;\n",
    "        }\n",
    "        dq(startX, startY, size / 2, arr);\n",
    "        dq(startX + size / 2, startY, size / 2, arr);\n",
    "        dq(startX, startY + size / 2, size / 2, arr);\n",
    "        dq(startX + size / 2, startY + size / 2, size / 2, arr);\n",
    "    }\n",
    "```\n",
    "\n",
    "---\n",
    "\n",
    "아래 네 줄의 코드는 재귀적으로 호출되는 `dq` 메서드를 통해 주어진 배열을 작은 영역으로 분할하고 각각의 영역에 대해 압축을 수행하는 데 사용됩니다. 각 라인은 다음과 같은 역할을 합니다\n",
    "\n",
    "1. `dq(startX, startY, size / 2, arr);`:\n",
    "    - 시작 위치 `(startX, startY)`에서부터 크기가 `size / 2`인 영역을 압축합니다.\n",
    "    - 이는 주어진 배열을 왼쪽 위 영역으로 분할하고 해당 영역에 대해 재귀적으로 압축을 수행하는 역할을 합니다.\n",
    "\n",
    "2. `dq(startX + size / 2, startY, size / 2, arr);`:\n",
    "    - 시작 위치를 오른쪽 위로 이동한 후 크기가 `size / 2`인 영역을 압축합니다.\n",
    "    - 이는 주어진 배열을 오른쪽 위 영역으로 분할하고 해당 영역에 대해 재귀적으로 압축을 수행하는 역할을 합니다.\n",
    "\n",
    "3. `dq(startX, startY + size / 2, size / 2, arr);`:\n",
    "    - 시작 위치를 왼쪽 아래로 이동한 후 크기가 `size / 2`인 영역을 압축합니다.\n",
    "    - 이는 주어진 배열을 왼쪽 아래 영역으로 분할하고 해당 영역에 대해 재귀적으로 압축을 수행하는 역할을 합니다.\n",
    "\n",
    "4. `dq(startX + size / 2, startY + size / 2, size / 2, arr);`:\n",
    "    - 시작 위치를 오른쪽 아래로 이동한 후 크기가 `size / 2`인 영역을 압축합니다.\n",
    "    - 이는 주어진 배열을 오른쪽 아래 영역으로 분할하고 해당 영역에 대해 재귀적으로 압축을 수행하는 역할을 합니다.\n",
    "\n",
    "이렇게 재귀적으로 호출되는 네 줄의 코드는 배열을 작은 영역으로 분할하여 각 영역에 대해 압축을 수행하고, 결과적으로 전체 배열을 쿼드 트리 압축하는 데 사용됩니다. 이를 통해 주어진 문제를 효율적으로 해결할 수 있습니다."
   ]
  },
  {
   "cell_type": "code",
   "execution_count": null,
   "metadata": {
    "vscode": {
     "languageId": "java"
    }
   },
   "outputs": [],
   "source": []
  },
  {
   "attachments": {},
   "cell_type": "markdown",
   "metadata": {},
   "source": [
    "4. `check` 메서드:\n",
    "\n",
    "- check 메서드는 주어진 영역이 모두 동일한 숫자로 이루어져 있는지 확인합니다.\n",
    "- `주어진 영역의 첫 번째 요소와 나머지 요소를 비교하여 모두 동일한 경우 true를 반환하고, 그렇지 않으면 false를 반환`합니다.\n",
    "\n",
    "```java\n",
    "    private static boolean check(int x, int y, int size, int[][] arr) {\n",
    "        for (int i = x; i < x + size; i++) {\n",
    "            for (int j = y; j < y + size; j++) {\n",
    "                if(arr[x][y] != arr[i][j]) return false;\n",
    "            }\n",
    "        }\n",
    "        return true;\n",
    "    }\n",
    "```\n",
    "\n",
    "---\n",
    "\n",
    "예를들어,\n",
    "x = 0;\n",
    "y = 0; \n",
    "\n",
    "i = 0; \n",
    "j = 0; \n",
    "\n",
    "arr[x][y]와 arr[i][j]는 `==` 하므로 continue\n"
   ]
  },
  {
   "attachments": {},
   "cell_type": "markdown",
   "metadata": {},
   "source": []
  }
 ],
 "metadata": {
  "kernelspec": {
   "display_name": "Java",
   "language": "java",
   "name": "java"
  },
  "language_info": {
   "codemirror_mode": "java",
   "file_extension": ".jshell",
   "mimetype": "text/x-java-source",
   "name": "Java",
   "pygments_lexer": "java",
   "version": "17.0.11+9-LTS"
  },
  "orig_nbformat": 4
 },
 "nbformat": 4,
 "nbformat_minor": 2
}
