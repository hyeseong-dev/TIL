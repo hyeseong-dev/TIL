{
 "cells": [
  {
   "cell_type": "code",
   "execution_count": 21,
   "metadata": {
    "vscode": {
     "languageId": "java"
    }
   },
   "outputs": [
    {
     "name": "stdout",
     "output_type": "stream",
     "text": [
      "[3, 5, 5, -1]\n",
      "[-1, 5, 6, 6, -1, -1]\n"
     ]
    }
   ],
   "source": [
    "def solution(nums: list[int]):\n",
    "    # 결과를 저장할 리스트 초기화\n",
    "    result = [-1] * len(nums)\n",
    "    # 다음 더 큰 수를 찾아야 할 인덱스를 저장할 스택\n",
    "    stack = []\n",
    "\n",
    "    # 모든 숫자에 대해 반복\n",
    "    for i, num in enumerate(nums):\n",
    "        \n",
    "        # 스택이 비어있지 않고 현재 숫자가 스택의 가장 위의 숫자보다 큰 경우\n",
    "        while stack and nums[stack[-1]] < num:\n",
    "            # 스택의 가장 위에 있는 인덱스의 결과를 현재 숫자로 설정\n",
    "            result[stack.pop()] = num\n",
    "        \n",
    "        # 현재 인덱스를 스택에 추가\n",
    "        stack.append(i)\n",
    "    \n",
    "    return result\n",
    "\n",
    "\n",
    "arr = [2, 3, 3, 5]\n",
    "result = solution(arr)\n",
    "print(result)\n",
    "arr = [9, 1, 5, 3, 6, 2]\n",
    "result = solution(arr)\n",
    "print(result)\n"
   ]
  },
  {
   "cell_type": "code",
   "execution_count": 12,
   "metadata": {
    "vscode": {
     "languageId": "java"
    }
   },
   "outputs": [
    {
     "data": {
      "text/plain": [
       "[2]"
      ]
     },
     "execution_count": 12,
     "metadata": {},
     "output_type": "execute_result"
    }
   ],
   "source": [
    "nums = [1,2]\n",
    "nums[1:]"
   ]
  },
  {
   "attachments": {},
   "cell_type": "markdown",
   "metadata": {},
   "source": []
  },
  {
   "cell_type": "code",
   "execution_count": 24,
   "metadata": {
    "vscode": {
     "languageId": "java"
    }
   },
   "outputs": [
    {
     "name": "stdout",
     "output_type": "stream",
     "text": [
      "[3, 5, 5, -1]\n",
      "[-1, 5, 6, 6, -1, -1]\n"
     ]
    }
   ],
   "source": [
    "class Solution:\n",
    "    def solution(self, numbers: list[int]) -> list[int]:\n",
    "        result = [0] * len(numbers)\n",
    "        stack = []\n",
    "\n",
    "        # 배열을 뒤에서부터 순회하여 뒤 큰 수 찾기\n",
    "        for i in range(len(numbers) - 1, -1, -1):\n",
    "            # 현재 숫자보다 작은 수는 스택에서 제거\n",
    "            while stack and stack[-1] <= numbers[i]:\n",
    "                stack.pop()\n",
    "            # 스택이 비어있지 않다면 현재 숫자보다 큰 다음 수가 스택의 맨 위에 있음\n",
    "            if stack: \n",
    "                result[i] = stack[-1]\n",
    "            else :\n",
    "                result[i] = -1\n",
    "            # 현재 숫자 스택에 추가\n",
    "            stack.append(numbers[i])\n",
    "\n",
    "        return result\n",
    "\n",
    "# 테스트 코드\n",
    "solution = Solution()\n",
    "numbers1 = [2, 3, 3, 5]\n",
    "numbers2 = [9, 1, 5, 3, 6, 2]\n",
    "print(solution.solution(numbers1))  # [3, 5, 5, -1]\n",
    "print(solution.solution(numbers2))  # [-1, 5, 6, 6, -1, -1]\n"
   ]
  },
  {
   "cell_type": "code",
   "execution_count": 9,
   "metadata": {
    "vscode": {
     "languageId": "java"
    }
   },
   "outputs": [
    {
     "name": "stdout",
     "output_type": "stream",
     "text": [
      "[3, 5, 5, -1]\n",
      "[-1, 5, 6, 6, -1, -1]\n"
     ]
    }
   ],
   "source": [
    "// 덱을 이용하여 구현 \n",
    "\n",
    "import java.util.*;\n",
    "\n",
    "public class Solution {\n",
    "    public int[] solution(int[] numbers) {\n",
    "        int[] result = new int[numbers.length];\n",
    "        Deque<Integer> stack = new ArrayDeque<>();\n",
    "\n",
    "        // 배열을 뒤에서부터 순회하여 뒤 큰 수 찾기\n",
    "        for (int i = numbers.length - 1; i >= 0; i--) {\n",
    "            // 현재 숫자보다 작은 수는 스택에서 제거\n",
    "            while (!stack.isEmpty() && stack.peek() <= numbers[i]) {\n",
    "                stack.pop();\n",
    "            }\n",
    "            // 스택이 비어있지 않다면 현재 숫자보다 큰 다음 수가 스택의 맨 위에 있음\n",
    "            result[i] = stack.isEmpty() ? -1 : stack.peek();\n",
    "            // 현재 숫자 스택에 추가\n",
    "            stack.push(numbers[i]);\n",
    "        }\n",
    "\n",
    "        return result;\n",
    "    }\n",
    "\n",
    "    public static void main() {\n",
    "        Solution solution = new Solution();\n",
    "        int[] numbers1 = {2, 3, 3, 5};\n",
    "        int[] numbers2 = {9, 1, 5, 3, 6, 2};\n",
    "\n",
    "        // 결과 출력\n",
    "        System.out.println(Arrays.toString(solution.solution(numbers1))); // [3, 5, 5, -1]\n",
    "        System.out.println(Arrays.toString(solution.solution(numbers2))); // [-1, 5, 6, 6, -1, -1]\n",
    "    }\n",
    "}\n",
    "\n",
    "Solution.main()"
   ]
  },
  {
   "cell_type": "code",
   "execution_count": null,
   "metadata": {
    "vscode": {
     "languageId": "java"
    }
   },
   "outputs": [],
   "source": []
  },
  {
   "cell_type": "code",
   "execution_count": null,
   "metadata": {
    "vscode": {
     "languageId": "java"
    }
   },
   "outputs": [],
   "source": []
  }
 ],
 "metadata": {
  "kernelspec": {
   "display_name": "Java",
   "language": "java",
   "name": "java"
  },
  "language_info": {
   "codemirror_mode": "java",
   "file_extension": ".jshell",
   "mimetype": "text/x-java-source",
   "name": "Java",
   "pygments_lexer": "java",
   "version": "17.0.11+9-LTS"
  },
  "orig_nbformat": 4
 },
 "nbformat": 4,
 "nbformat_minor": 2
}
