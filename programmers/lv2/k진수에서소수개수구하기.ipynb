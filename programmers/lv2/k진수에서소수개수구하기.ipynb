{
 "cells": [
  {
   "attachments": {},
   "cell_type": "markdown",
   "metadata": {},
   "source": [
    "문제 설명\n",
    "---\n",
    "양의 정수 n이 주어집니다. 이 숫자를 k진수로 바꿨을 때, 변환된 수 안에 아래 조건에 맞는 소수(Prime number)가 몇 개인지 알아보려 합니다.\n",
    "\n",
    "1. `0P0`처럼 소수 양쪽에 0이 있는 경우\n",
    "2. `P0`처럼 소수 오른쪽에만 0이 있고 왼쪽에는 아무것도 없는 경우\n",
    "3. `0P`처럼 소수 왼쪽에만 0이 있고 오른쪽에는 아무것도 없는 경우\n",
    "4. `P`처럼 소수 양쪽에 아무것도 없는 경우\n",
    "\n",
    "단, P는 각 자릿수에 0을 포함하지 않는 소수입니다. 예를 들어, 101은 P가 될 수 없습니다.\n",
    "\n",
    "예를 들어, 437674을 3진수로 바꾸면 `211`0`2`01010`11`입니다. 여기서 찾을 수 있는 조건에 맞는 소수는 왼쪽부터 순서대로 211, 2, 11이 있으며, 총 3개입니다. (211, 2, 11을 k진법으로 보았을 때가 아닌, 10진법으로 보았을 때 소수여야 한다는 점에 주의합니다.) 211은 P0 형태에서 찾을 수 있으며, 2는 0P0에서, 11은 0P에서 찾을 수 있습니다.\n",
    "\n",
    "정수 n과 k가 매개변수로 주어집니다. n을 k진수로 바꿨을 때, 변환된 수 안에서 찾을 수 있는 위 조건에 맞는 소수의 개수를 return 하도록 solution 함수를 완성해 주세요.\n",
    "\n",
    "https://school.programmers.co.kr/learn/courses/30/lessons/92335?language=java"
   ]
  },
  {
   "cell_type": "code",
   "execution_count": null,
   "metadata": {
    "vscode": {
     "languageId": "java"
    }
   },
   "outputs": [],
   "source": []
  },
  {
   "cell_type": "code",
   "execution_count": 36,
   "metadata": {
    "vscode": {
     "languageId": "java"
    }
   },
   "outputs": [
    {
     "name": "stdout",
     "output_type": "stream",
     "text": [
      "찾을 수 있는 소수의 개수: 3\n"
     ]
    }
   ],
   "source": [
    "import java.util.ArrayList;\n",
    "\n",
    "public class KPrimeInKNotation{\n",
    "\n",
    "        /**\n",
    "     * 주어진 숫자가 소수인지를 판별하는 메서드입니다.\n",
    "     *\n",
    "     * @param num 소수인지 판별할 숫자\n",
    "     * @return 주어진 숫자가 소수이면 true, 아니면 false\n",
    "     */\n",
    "    public boolean isPrime(int num){\n",
    "        if(num < 2) return false;\n",
    "        for (int i = 2; i <= Math.sqrt(num); i++){\n",
    "            if(num % i == 0) return false;\n",
    "        }\n",
    "        return true;\n",
    "    }\n",
    "\n",
    "    /**\n",
    "     * 주어진 정수를 k진수로 변환하여 소수를 찾는 메서드입니다.\n",
    "     *\n",
    "     * @param n 소수를 찾을 정수\n",
    "     * @param k 진수\n",
    "     * @return 주어진 정수를 k진수로 변환했을 때 조건을 만족하는 소수의 개수\n",
    "     */\n",
    "\n",
    "    public int countPrime(int n, int k){\n",
    "        int count = 0;\n",
    "\n",
    "        // n을 k진수로 변환 \n",
    "        String str = Integer.toString(n, k);\n",
    "        String[] arr = str.split(\"0\"); // 0을 기준으로 문자열 분할\n",
    "\n",
    "        // 각 분할된 문자열에서 소수를 찾아 개수 카운트 \n",
    "        for(String s : arr){\n",
    "            if(!s.equals(\"\") && isPrime(Integer.parseInt(s))){\n",
    "                count++;\n",
    "            }\n",
    "        }\n",
    "        return count;\n",
    "    }\n",
    "\n",
    "    public static void solution(){\n",
    "        int n = 437674;\n",
    "        int k = 3;\n",
    "\n",
    "        KPrimeInKNotation kPrimeInKNotation = new KPrimeInKNotation();\n",
    "        int answer = kPrimeInKNotation.countPrime(n, k);\n",
    "        System.out.println(\"찾을 수 있는 소수의 개수: \" + answer);\n",
    "    }\n",
    "}\n",
    "\n",
    "KPrimeInKNotation.solution();"
   ]
  },
  {
   "attachments": {},
   "cell_type": "markdown",
   "metadata": {},
   "source": [
    "### 위 코드는 틀리는 문제\n",
    "\n",
    "- 프로그래머스 1, 11번 테스트 케이스에서 런타임 에러가 발생한다. \n",
    "- 예를들면, n의 값이 백만이 들어가는 테스트케이스일 경우 2진수로 변환 할 경우 Overflow가 발생한다. \n",
    "  그러므로 `long`타입으로 변경해주어야한다. "
   ]
  },
  {
   "cell_type": "code",
   "execution_count": 37,
   "metadata": {
    "vscode": {
     "languageId": "java"
    }
   },
   "outputs": [
    {
     "name": "stdout",
     "output_type": "stream",
     "text": [
      "찾을 수 있는 소수의 개수: 3\n"
     ]
    }
   ],
   "source": [
    "// 프로그래머스 정답문제.\n",
    "import java.util.ArrayList;\n",
    "\n",
    "public class Solution{\n",
    "\n",
    "        /**\n",
    "     * 주어진 숫자가 소수인지를 판별하는 메서드입니다.\n",
    "     *\n",
    "     * @param num 소수인지 판별할 숫자\n",
    "     * @return 주어진 숫자가 소수이면 true, 아니면 false\n",
    "     */\n",
    "    public boolean isPrime(long num){\n",
    "        if(num < 2) return false;\n",
    "        for (long i = 2; i <= Math.sqrt(num); i++){\n",
    "            if(num % i == 0) return false; // 나머지가 0일 경우, 소수가 아닙니다.\n",
    "        }\n",
    "        return true;\n",
    "    }\n",
    "\n",
    "    /**\n",
    "     * 주어진 정수를 k진수로 변환하여 소수를 찾는 메서드입니다.\n",
    "     *\n",
    "     * @param n 소수를 찾을 정수\n",
    "     * @param k 진수\n",
    "     * @return 주어진 정수를 k진수로 변환했을 때 조건을 만족하는 소수의 개수\n",
    "     */\n",
    "\n",
    "    public int solution(int n, int k){\n",
    "        int count = 0;\n",
    "\n",
    "        // n을 k진수로 변환 \n",
    "        String str = Integer.toString(n, k);\n",
    "        String[] arr = str.split(\"0\"); // 0을 기준으로 문자열 분할\n",
    "\n",
    "        // 각 분할된 문자열에서 소수를 찾아 개수 카운트 \n",
    "        for(String s : arr){\n",
    "            if(!s.equals(\"\") && isPrime(Long.parseLong(s))){\n",
    "                count++;\n",
    "            }\n",
    "        }\n",
    "        return count;\n",
    "    }\n",
    "\n",
    "}\n",
    "\n",
    "KPrimeInKNotation.solution();"
   ]
  },
  {
   "cell_type": "code",
   "execution_count": 15,
   "metadata": {
    "vscode": {
     "languageId": "java"
    }
   },
   "outputs": [
    {
     "data": {
      "text/plain": [
       "211020101011"
      ]
     },
     "execution_count": 15,
     "metadata": {},
     "output_type": "execute_result"
    }
   ],
   "source": [
    "int n = 437674;\n",
    "int k = 3;\n",
    "Integer.toString(n, k);"
   ]
  },
  {
   "cell_type": "code",
   "execution_count": 18,
   "metadata": {
    "vscode": {
     "languageId": "java"
    }
   },
   "outputs": [
    {
     "name": "stdout",
     "output_type": "stream",
     "text": [
      "211\n",
      "2\n",
      "1\n",
      "1\n",
      "11\n"
     ]
    }
   ],
   "source": [
    "String[] arr = Integer.toString(n, k).split(\"0\");\n",
    "for(String str : arr)\n",
    "    System.out.println(str);"
   ]
  },
  {
   "cell_type": "code",
   "execution_count": 22,
   "metadata": {
    "vscode": {
     "languageId": "java"
    }
   },
   "outputs": [
    {
     "name": "stdout",
     "output_type": "stream",
     "text": [
      "비어 X: 211\n",
      "비어 X: 2\n",
      "비어 X: 1\n",
      "비어 X: 1\n",
      "비어 X: 11\n"
     ]
    }
   ],
   "source": [
    "for(String str : arr){\n",
    "    if(str.equals(\"\"))\n",
    "        System.out.println(\"비어 O: \" + str);\n",
    "    System.out.println(\"비어 X: \" + str);\n",
    "}\n"
   ]
  },
  {
   "cell_type": "code",
   "execution_count": 27,
   "metadata": {
    "vscode": {
     "languageId": "java"
    }
   },
   "outputs": [
    {
     "name": "stdout",
     "output_type": "stream",
     "text": [
      "11\n",
      "\n",
      "11\n",
      "\n",
      "110011\n",
      "비어 X: 11\n",
      "비어 O: \n",
      "비어 X: \n",
      "비어 X: 11\n"
     ]
    }
   ],
   "source": [
    "// 비어 있지 않음 \n",
    "int n = 110011;\n",
    "int k = 10;\n",
    "\n",
    "String[] arr = Integer.toString(n, k).split(\"0\");\n",
    "\n",
    "for(String str : arr){\n",
    "    System.out.println(str);\n",
    "}\n",
    "    \n",
    "\n",
    "System.out.println();\n",
    "System.out.println(Integer.toString(n, k));\n",
    "for(String str : arr){\n",
    "    if(str.equals(\"\")){\n",
    "        System.out.println(\"비어 O: \" + str);\n",
    "    }\n",
    "    System.out.println(\"비어 X: \" + str);\n",
    "}\n"
   ]
  },
  {
   "attachments": {},
   "cell_type": "markdown",
   "metadata": {},
   "source": [
    "#### `!s.equals(\"\")`\n",
    "`!s.equals(\"\")` 코드 스니펫은 주어진 문자열 `s`가 비어 있는지 여부를 확인하는데 사용됩니다. \n",
    "이 코드는 문자열이 비어 있지 않은 경우에만 조건을 만족합니다.\n",
    "\n",
    "주어진 문자열이 null이거나 비어 있는지 확인하지 않으면 `s.equals(\"\")`에서 NullPointerException이 발생할 수 있습니다. 따라서 이를 방지하기 위해 먼저 문자열이 null이 아니고 비어 있지 않은지를 확인하는 것이 좋습니다. 따라서 `!s.equals(\"\")`를 사용하여 안전하게 문자열이 비어 있는지 여부를 확인할 수 있습니다."
   ]
  },
  {
   "cell_type": "code",
   "execution_count": null,
   "metadata": {
    "vscode": {
     "languageId": "java"
    }
   },
   "outputs": [],
   "source": []
  },
  {
   "attachments": {},
   "cell_type": "markdown",
   "metadata": {},
   "source": [
    "#### ` Math.sqrt`\n",
    "`i <= Math.sqrt(num)` 코드에서 `sqrt` 메서드는 제곱근을 계산하는 메서드입니다. <br>\n",
    "이 코드에서의 목적은 소수를 판별하는 것입니다. 일반적으로 소수를 판별할 때, 특정 숫자 `num`이 소수인지 판별하기 위해 2부터 해당 숫자의 제곱근까지의 숫자로 나누어 보는 방법을 사용합니다.<br>\n",
    "\n",
    "만약 `num`이 소수가 아니라면, 즉 합성수라면, 그것은 두 개 이상의 작은 수의 곱으로 표현됩니다. 예를 들어, 100의 제곱근은 10이므로, 10보다 큰 수는 100을 나눌 수 없습니다. 이것은 100이 합성수임을 암시합니다. <br>\n",
    "\n",
    "따라서 2부터 `Math.sqrt(num)`까지의 범위로 나누어 보는 것은 효율적인 소수 판별 알고리즘 중 하나입니다. 만약 `num`이 소수라면, `Math.sqrt(num)`보다 큰 수로 나누어도 나누어 떨어지는 수는 없기 때문에 모든 나눗셈 연산을 수행할 필요가 없습니다."
   ]
  },
  {
   "attachments": {},
   "cell_type": "markdown",
   "metadata": {},
   "source": []
  }
 ],
 "metadata": {
  "kernelspec": {
   "display_name": "Java",
   "language": "java",
   "name": "java"
  },
  "language_info": {
   "codemirror_mode": "java",
   "file_extension": ".jshell",
   "mimetype": "text/x-java-source",
   "name": "Java",
   "pygments_lexer": "java",
   "version": "17.0.11+9-LTS"
  },
  "orig_nbformat": 4
 },
 "nbformat": 4,
 "nbformat_minor": 2
}
