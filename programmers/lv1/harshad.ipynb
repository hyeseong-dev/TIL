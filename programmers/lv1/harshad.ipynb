{
 "cells": [
  {
   "cell_type": "code",
   "execution_count": 1,
   "metadata": {
    "vscode": {
     "languageId": "java"
    }
   },
   "outputs": [
    {
     "name": "stdout",
     "output_type": "stream",
     "text": [
      "10은(는) 하샤드 수인가? true\n",
      "12은(는) 하샤드 수인가? true\n",
      "11은(는) 하샤드 수인가? false\n",
      "13은(는) 하샤드 수인가? false\n"
     ]
    }
   ],
   "source": [
    "\n",
    "public class Harshad {\n",
    "    // 주어진 숫자가 하샤드 수인지를 판별하는 메서드\n",
    "    public static boolean solution(int num) {\n",
    "        // 원본 숫자를 저장할 변수\n",
    "        int originalNum = num;\n",
    "        // 각 자릿수의 합을 저장할 변수\n",
    "        int sumOfDigits = 0;\n",
    "\n",
    "        // 숫자가 0이 아닐 때까지 반복\n",
    "        while (num != 0) {\n",
    "            // 현재 자릿수를 구하여 sumOfDigits에 더함\n",
    "            sumOfDigits += num % 10;\n",
    "            // 다음 자릿수를 계산하기 위해 num을 10으로 나눔\n",
    "            num /= 10;\n",
    "        }\n",
    "\n",
    "        // 하샤드 수 여부를 판별하여 반환\n",
    "        return (originalNum % sumOfDigits) == 0;\n",
    "    }\n",
    "\n",
    "    // 테스트를 위한 main 메서드\n",
    "    public static void main() {\n",
    "        // 주어진 숫자 배열\n",
    "        int[] nums = {10, 12, 11, 13};\n",
    "        \n",
    "        // 각 숫자에 대해 하샤드 수 여부를 판별하고 결과를 출력\n",
    "        for (int num : nums) {\n",
    "            boolean isHarshad = Harshad.solution(num);\n",
    "            System.out.println(num + \"은(는) 하샤드 수인가? \" + isHarshad);\n",
    "        }\n",
    "    }\n",
    "}\n",
    "\n",
    "Harshad.main()"
   ]
  },
  {
   "cell_type": "code",
   "execution_count": 2,
   "metadata": {
    "vscode": {
     "languageId": "java"
    }
   },
   "outputs": [
    {
     "name": "stdout",
     "output_type": "stream",
     "text": [
      "10은(는) 하샤드 수인가? true\n",
      "12은(는) 하샤드 수인가? true\n",
      "11은(는) 하샤드 수인가? false\n",
      "13은(는) 하샤드 수인가? false\n"
     ]
    }
   ],
   "source": [
    "// 무나열로 변경후 각 자리수를 문자열 배열로 변경하여 처리 \n",
    "\n",
    "\n",
    "public class Harshad2 {\n",
    "    // 주어진 숫자가 하샤드 수인지를 판별하는 메서드\n",
    "    public static boolean solution(int num) {\n",
    "        String[] words = String.valueOf(num).split(\"\");\n",
    "        int sum = 0;\n",
    "\n",
    "        for(String word : words){\n",
    "            sum = Integer.parseInt(word) + sum;\n",
    "        }\n",
    "        \n",
    "        return num % sum == 0;\n",
    "    }\n",
    "\n",
    "    // 테스트를 위한 main 메서드\n",
    "    public static void main() {\n",
    "        // 주어진 숫자 배열\n",
    "        int[] nums = {10, 12, 11, 13};\n",
    "        \n",
    "        // 각 숫자에 대해 하샤드 수 여부를 판별하고 결과를 출력\n",
    "        for (int num : nums) {\n",
    "            boolean isHarshad = Harshad2.solution(num);\n",
    "            System.out.println(num + \"은(는) 하샤드 수인가? \" + isHarshad);\n",
    "        }\n",
    "    }\n",
    "}\n",
    "\n",
    "Harshad2.main()"
   ]
  },
  {
   "cell_type": "code",
   "execution_count": 5,
   "metadata": {
    "vscode": {
     "languageId": "java"
    }
   },
   "outputs": [
    {
     "name": "stdout",
     "output_type": "stream",
     "text": [
      "10 is Harshad? true\n",
      "12 is Harshad? true\n",
      "11 is Harshad? false\n",
      "13 is Harshad? false\n"
     ]
    }
   ],
   "source": [
    "public class Harshad3 {\n",
    "    public static boolean isHarshad(int num) {\n",
    "        String numStr = String.valueOf(num);\n",
    "        int sumOfDigits = 0;\n",
    "\n",
    "        for (int i = 0; i < numStr.length(); i++) {\n",
    "            int digit = Character.getNumericValue(numStr.charAt(i));\n",
    "            sumOfDigits += digit;\n",
    "        }\n",
    "\n",
    "        return num % sumOfDigits == 0;\n",
    "    }\n",
    "\n",
    "    public static void main() {\n",
    "        int[] nums = {10, 12, 11, 13};\n",
    "        for (int num : nums) {\n",
    "            boolean isHarshad = Harshad3.isHarshad(num);\n",
    "            System.out.println(num + \" is Harshad? \" + isHarshad);\n",
    "        }\n",
    "    }\n",
    "}\n",
    "Harshad3.main()"
   ]
  },
  {
   "attachments": {},
   "cell_type": "markdown",
   "metadata": {},
   "source": [
    "위의 세 가지 코드는 각각 하샤드 수를 판별하는 데 다른 방법을 사용합니다.\n",
    "\n",
    "1. **Harshad 클래스**: \n",
    "   - 숫자를 반복하여 각 자릿수를 더하는 방법을 사용합니다. \n",
    "   - 예를 들어, 18의 경우 1+8=9가 되므로 하샤드 수입니다.\n",
    "   - 시간 복잡도: 입력된 숫자의 자릿수에 따라 달라집니다. 자릿수가 n인 경우 O(n)입니다.\n",
    "   - 공간 복잡도: 입력된 숫자에 관계없이 O(1)입니다.\n",
    "   - 성능: 단순하고 효율적인 방법입니다. 하지만 숫자를 문자열로 변환하지 않으므로 메모리 사용이 적습니다.\n",
    "\n",
    "2. **Harshad2 클래스**: \n",
    "   - 숫자를 문자열로 변환한 후, 각 자릿수를 다시 정수로 변환하여 더하는 방법을 사용합니다.\n",
    "   - 시간 복잡도: 입력된 숫자의 자릿수에 따라 달라집니다. 자릿수가 n인 경우 O(n)입니다.\n",
    "   - 공간 복잡도: 입력된 숫자의 자릿수에 비례하여 증가합니다. 문자열로 변환된 숫자의 길이에 따라 O(n)입니다.\n",
    "   - 성능: 문자열 변환 및 분할에 따른 오버헤드가 있으며, 문자열 배열을 사용하므로 메모리 사용이 더 많습니다.\n",
    "\n",
    "3. **Harshad3 클래스**: \n",
    "   - 문자열 변환 대신에 정수를 문자열로 변환하지 않고 각 자릿수를 계산합니다.\n",
    "   - 시간 복잡도: 입력된 숫자의 자릿수에 따라 달라집니다. 자릿수가 n인 경우 O(n)입니다.\n",
    "   - 공간 복잡도: 입력된 숫자에 관계없이 O(1)입니다.\n",
    "   - 성능: 문자열 변환이 필요 없으므로 Harshad2 클래스보다 메모리 사용이 적습니다.\n",
    "\n",
    "각각의 클래스는 입력 크기에 따라 성능이 다르며, Harshad3 클래스가 가장 효율적인 방법을 제공합니다. 하지만 입력 크기가 작은 경우에는 성능 차이가 미미할 수 있습니다."
   ]
  },
  {
   "cell_type": "code",
   "execution_count": null,
   "metadata": {
    "vscode": {
     "languageId": "java"
    }
   },
   "outputs": [],
   "source": []
  }
 ],
 "metadata": {
  "kernelspec": {
   "display_name": "Java",
   "language": "java",
   "name": "java"
  },
  "language_info": {
   "codemirror_mode": "java",
   "file_extension": ".jshell",
   "mimetype": "text/x-java-source",
   "name": "Java",
   "pygments_lexer": "java",
   "version": "17.0.11+9-LTS"
  },
  "orig_nbformat": 4
 },
 "nbformat": 4,
 "nbformat_minor": 2
}
