{
 "cells": [
  {
   "cell_type": "code",
   "execution_count": null,
   "metadata": {
    "vscode": {
     "languageId": "java"
    }
   },
   "outputs": [],
   "source": []
  },
  {
   "attachments": {},
   "cell_type": "markdown",
   "metadata": {},
   "source": [
    "### 문제 설명\n",
    "\n",
    "두 정수 a, b가 주어졌을 때 a와 b 사이에 속한 모든 정수의 합을 리턴하는 함수, solution을 완성하세요.<br>\n",
    "예를 들어 a = 3, b = 5인 경우, 3 + 4 + 5 = 12이므로 12를 리턴합니다.<br>\n",
    "\n",
    "### 제한 조건\n",
    "a와 b가 같은 경우는 둘 중 아무 수나 리턴하세요.<br>\n",
    "a와 b는 -10,000,000 이상 10,000,000 이하인 정수입니다.<br>\n",
    "a와 b의 대소관계는 정해져있지 않습니다.<br>\n",
    "\n",
    "### 입출력 예\n",
    "a\tb\treturn<br>\n",
    "3\t5\t12<br>\n",
    "3\t3\t3<br>\n",
    "5\t3\t12<br>"
   ]
  },
  {
   "cell_type": "code",
   "execution_count": 1,
   "metadata": {
    "vscode": {
     "languageId": "java"
    }
   },
   "outputs": [
    {
     "name": "stdout",
     "output_type": "stream",
     "text": [
      "a = 3, b = 5, result = 12\n",
      "a = 3, b = 3, result = 3\n",
      "a = 5, b = 3, result = 12\n"
     ]
    }
   ],
   "source": [
    "// https://school.programmers.co.kr/learn/courses/30/lessons/12912?language=java\n",
    "\n",
    "\n",
    "\n",
    "public class SumBtwNums {\n",
    "    public long solution(int a, int b) {\n",
    "        // 두 정수 사이의 정수 개수 구하기\n",
    "        long count = Math.abs((long) a - (long) b) + 1;\n",
    "\n",
    "        // 등차수열 합 공식을 이용하여 두 정수 사이의 모든 정수의 합 계산\n",
    "        // 합 = (첫 항 + 끝 항) * 항의 개수 / 2\n",
    "        long sum = (long) (a + b) * count / 2;\n",
    "        return sum;\n",
    "\n",
    "    }\n",
    "\n",
    "    public static void main() {\n",
    "        // 주어진 표의 데이터\n",
    "        int[][] data = {\n",
    "                {3, 5},\n",
    "                {3, 3},\n",
    "                {5, 3}\n",
    "        };\n",
    "\n",
    "        // 각 경우에 대해 solution 메소드 호출하여 결과 출력\n",
    "        for (int[] nums : data) {\n",
    "            int a = nums[0];\n",
    "            int b = nums[1];\n",
    "            SumBtwNums sumBtwNums = new SumBtwNums();\n",
    "\n",
    "            long result = sumBtwNums.solution(a, b);\n",
    "            System.out.println(\"a = \" + a + \", b = \" + b + \", result = \" + result);\n",
    "        }\n",
    "    }\n",
    "}\n",
    "\n",
    "SumBtwNums.main()"
   ]
  },
  {
   "cell_type": "code",
   "execution_count": 6,
   "metadata": {
    "vscode": {
     "languageId": "java"
    }
   },
   "outputs": [
    {
     "name": "stdout",
     "output_type": "stream",
     "text": [
      "a = 3, b = 5, result = 12\n",
      "a = 3, b = 3, result = 3\n",
      "a = 5, b = 3, result = 12\n"
     ]
    }
   ],
   "source": [
    "\n",
    "public class SumBtwNums2 {\n",
    "    public long solution(int a, int b) {\n",
    "        long min = Math.min(a, b);\n",
    "        long max = Math.max(a, b);\n",
    "\n",
    "        // 등차수열 합 공식을 이용하여 두 정수 사이의 모든 정수의 합 계산\n",
    "        return (max - min +1) * (min + max) / 2;\n",
    "\n",
    "    }\n",
    "\n",
    "    public static void main() {\n",
    "        // 주어진 표의 데이터\n",
    "        int[][] data = {\n",
    "                {3, 5},\n",
    "                {3, 3},\n",
    "                {5, 3}\n",
    "        };\n",
    "\n",
    "        // 각 경우에 대해 solution 메소드 호출하여 결과 출력\n",
    "        for (int[] nums : data) {\n",
    "            int a = nums[0];\n",
    "            int b = nums[1];\n",
    "            SumBtwNums2 sumBtwNums = new SumBtwNums2();\n",
    "\n",
    "            long result = sumBtwNums.solution(a, b);\n",
    "            System.out.println(\"a = \" + a + \", b = \" + b + \", result = \" + result);\n",
    "        }\n",
    "    }\n",
    "}\n",
    "\n",
    "SumBtwNums2.main()"
   ]
  },
  {
   "cell_type": "code",
   "execution_count": 8,
   "metadata": {
    "vscode": {
     "languageId": "java"
    }
   },
   "outputs": [
    {
     "name": "stdout",
     "output_type": "stream",
     "text": [
      "a = 3, b = 5, result = 12\n",
      "a = 3, b = 3, result = 3\n",
      "a = 5, b = 3, result = 12\n"
     ]
    }
   ],
   "source": [
    "// 등차수열 공식\n",
    "public class SumBtwNums3 {\n",
    "    public long solution(int a, int b) {\n",
    "        long answer = 0;\n",
    "\n",
    "        if ( a < b){\n",
    "            for(int i = a; i<=b; i++){\n",
    "                answer += i;\n",
    "            }\n",
    "        } else{\n",
    "            for(int i = b; i<=a; i++){\n",
    "                answer += i;\n",
    "            }\n",
    "        }\n",
    "        return answer;\n",
    "\n",
    "\n",
    "    }\n",
    "\n",
    "    public static void main() {\n",
    "        // 주어진 표의 데이터\n",
    "        int[][] data = {\n",
    "                {3, 5},\n",
    "                {3, 3},\n",
    "                {5, 3}\n",
    "        };\n",
    "\n",
    "        // 각 경우에 대해 solution 메소드 호출하여 결과 출력\n",
    "        for (int[] nums : data) {\n",
    "            int a = nums[0];\n",
    "            int b = nums[1];\n",
    "            SumBtwNums3 sumBtwNums = new SumBtwNums3();\n",
    "\n",
    "            long result = sumBtwNums.solution(a, b);\n",
    "            System.out.println(\"a = \" + a + \", b = \" + b + \", result = \" + result);\n",
    "        }\n",
    "    }\n",
    "}\n",
    "\n",
    "SumBtwNums2.main()"
   ]
  },
  {
   "attachments": {},
   "cell_type": "markdown",
   "metadata": {},
   "source": [
    "위 세 가지 클래스는 두 정수 사이의 모든 정수의 합을 구하는 방법이 서로 다릅니다.\n",
    "\n",
    "1. **SumBtwNums**: 등차수열 공식을 사용하여 두 정수 사이의 모든 정수의 합을 구합니다. 두 정수 사이의 정수 개수를 구하고, 이를 이용하여 등차수열의 합을 계산합니다. 이 방법은 가장 간결하고 효율적인 방법 중 하나입니다.\n",
    "   - 시간 복잡도: O(1)\n",
    "   - 공간 복잡도: O(1)\n",
    "\n",
    "2. **SumBtwNums2**: 두 정수 중 작은 값부터 큰 값까지 반복문을 돌면서 합을 구합니다. 반복문을 사용하여 직접 합을 구하는 방식입니다.\n",
    "   - 시간 복잡도: O(N), 여기서 N은 두 정수 사이의 정수 개수입니다.\n",
    "   - 공간 복잡도: O(1)\n",
    "\n",
    "3. **SumBtwNums3**: 조건문을 사용하여 두 정수 중 작은 값부터 큰 값까지 반복문을 돌면서 합을 구합니다. 반복문을 사용하여 직접 합을 구하는 방식이며, 조건문을 이용해 더 큰 수와 작은 수를 구분합니다.\n",
    "   - 시간 복잡도: O(N), 여기서 N은 두 정수 사이의 정수 개수입니다.\n",
    "   - 공간 복잡도: O(1)\n",
    "\n",
    "위 방법들 중에서는 첫 번째 방법이 가장 효율적이며, 등차수열의 합을 사용하여 한 번에 결과를 구할 수 있습니다. 나머지 두 방법은 반복문을 사용하여 직접 합을 계산하므로 입력 값의 크기에 따라 시간 복잡도가 증가하게 됩니다."
   ]
  },
  {
   "attachments": {},
   "cell_type": "markdown",
   "metadata": {},
   "source": []
  }
 ],
 "metadata": {
  "kernelspec": {
   "display_name": "Java",
   "language": "java",
   "name": "java"
  },
  "language_info": {
   "codemirror_mode": "java",
   "file_extension": ".jshell",
   "mimetype": "text/x-java-source",
   "name": "Java",
   "pygments_lexer": "java",
   "version": "17.0.11+9-LTS"
  },
  "orig_nbformat": 4
 },
 "nbformat": 4,
 "nbformat_minor": 2
}
