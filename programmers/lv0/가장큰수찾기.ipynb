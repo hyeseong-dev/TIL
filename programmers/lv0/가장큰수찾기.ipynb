{
 "cells": [
  {
   "cell_type": "code",
   "execution_count": null,
   "metadata": {},
   "outputs": [],
   "source": [
    "package lv0;\n",
    "\n",
    "public class FindMax {\n",
    "        public int[] solution(int[] array) {\n",
    "            int[] answer = {0, 0};\n",
    "\n",
    "            answer[0] = array[0];\n",
    "            int idx = 0;\n",
    "\n",
    "            for(int i = 0; i<array.length; i++){\n",
    "                if(array[i] > answer[0]){\n",
    "                    answer[0] = array[i];\n",
    "                    answer[1] = i;\n",
    "                }\n",
    "            }\n",
    "\n",
    "            return answer;\n",
    "        }\n",
    "\n",
    "    public static void main(String[] args) {\n",
    "        int[] array = {1, 8, 3};\n",
    "        FindMax findMax = new FindMax();\n",
    "        int[] result = findMax.solution(array);\n",
    "        for(int i : result){\n",
    "            System.out.println(i);\n",
    "        }\n",
    "\n",
    "    }\n",
    "}\n",
    "\n"
   ]
  }
 ],
 "metadata": {
  "kernelspec": {
   "display_name": "Java",
   "language": "java",
   "name": "java"
  },
  "language_info": {
   "name": "java"
  },
  "orig_nbformat": 4
 },
 "nbformat": 4,
 "nbformat_minor": 2
}
