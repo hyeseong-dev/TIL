{
 "cells": [
  {
   "attachments": {},
   "cell_type": "markdown",
   "metadata": {},
   "source": [
    "## n보다 커질 때까지 더하기 문제\n",
    "\n",
    "**문제 설명**\n",
    "\n",
    "정수 배열 `numbers`와 정수 `n`이 매개변수로 주어집니다.   \n",
    " `numbers`의 원소를 앞에서부터 하나씩 더하다가 그 합이 `n`보다 커지는 순간 이때까지 더했던 원소들의 합을 `return`하는 함수 `solution`을 작성해야 합니다.\n",
    "\n",
    "**제약 조건**\n",
    "\n",
    "- `numbers`의 길이는 1 이상 100 이하입니다.\n",
    "- `numbers`의 원소는 1 이상 100 이하입니다.\n",
    "- `0 ≤ n < numbers`의 모든 원소의 합입니다.\n",
    "\n",
    "**입출력 예**\n",
    "\n",
    "| `numbers` | `n` | `result` |\n",
    "|---|---|---|\n",
    "| `[34, 5, 71, 29, 100, 34]` | `123` | `139` |\n",
    "| `[58, 44, 27, 10, 100]` | `139` | `239` |\n",
    "\n",
    "**입출력 예 설명**\n",
    "\n",
    "**예제 1:**\n",
    "\n",
    "`numbers`를 문제 설명대로 더해가는 과정을 표로 나타낸다면 다음과 같습니다.\n",
    "\n",
    "| `i` | `numbers[i]` | `sum` |\n",
    "|---|---|---|\n",
    "| 0 | - | 0 |\n",
    "| 1 | 34 | 34 |\n",
    "| 2 | 5 | 39 |\n",
    "| 3 | 71 | 110 |\n",
    "| 4 | 29 | 139 |\n",
    "\n",
    "29를 더한 후에 `sum` 값은 139이고 `n` 값인 123보다 크므로 139를 `return`합니다.\n",
    "\n",
    "**예제 2:**\n",
    "\n",
    "`numbers`의 마지막 원소 전까지의 원소를 `sum`에 더하면 139입니다. 139는 `n` 값인 139보다 크지 않고 마지막 원소인 100을 더하면 139보다 커지므로 239를 `return`합니다.\n"
   ]
  },
  {
   "cell_type": "code",
   "execution_count": 5,
   "metadata": {
    "vscode": {
     "languageId": "java"
    }
   },
   "outputs": [
    {
     "name": "stdout",
     "output_type": "stream",
     "text": [
      "129\n"
     ]
    }
   ],
   "source": [
    "class Solution {\n",
    "\n",
    "    public int solution(int[] numbers, int n) {\n",
    "        int answer = 0;\n",
    "        if(numbers.length == 0) return answer;\n",
    "\n",
    "        for(int i = 0; i < numbers.length; i++){\n",
    "            if (answer > n)\n",
    "                return answer;\n",
    "            \n",
    "            answer += numbers[i];    \n",
    "        }\n",
    "\n",
    "        return answer;\n",
    "        \n",
    "    }\n",
    "\n",
    "    public static void main(){\n",
    "        Solution sol = new Solution();\n",
    "        int[] arr = {58, 44, 27, 10, 100};\n",
    "        int n = 123;\n",
    "        // int[] arr = {34, 5, 71, 29, 100, 34};\n",
    "        \n",
    "        int result = sol.solution(arr, n);\n",
    "        System.out.println(result);\n",
    "        // for(int num: result)\n",
    "        //     System.out.println(num);\n",
    "    }\n",
    "}\n",
    "\n",
    "Solution.main();\n"
   ]
  },
  {
   "cell_type": "code",
   "execution_count": 9,
   "metadata": {
    "vscode": {
     "languageId": "java"
    }
   },
   "outputs": [
    {
     "name": "stdout",
     "output_type": "stream",
     "text": [
      "129\n"
     ]
    }
   ],
   "source": [
    "class Solution {\n",
    "\n",
    "    public int solution(int[] numbers, int n) {\n",
    "        int idx = 0;\n",
    "        int sum = 0;\n",
    "        \n",
    "        while(sum<=n) sum += numbers[idx++];\n",
    "        return sum;\n",
    "    }\n",
    "\n",
    "    public static void main(){\n",
    "        Solution sol = new Solution();\n",
    "        int[] arr = {58, 44, 27, 10, 100};\n",
    "        int n = 123;\n",
    "        // int[] arr = {34, 5, 71, 29, 100, 34};\n",
    "        \n",
    "        int result = sol.solution(arr, n);\n",
    "        System.out.println(result);\n",
    "        // for(int num: result)\n",
    "        //     System.out.println(num);\n",
    "    }\n",
    "}\n",
    "\n",
    "Solution.main();\n"
   ]
  },
  {
   "attachments": {},
   "cell_type": "markdown",
   "metadata": {},
   "source": []
  }
 ],
 "metadata": {
  "kernelspec": {
   "display_name": "Java",
   "language": "java",
   "name": "java"
  },
  "language_info": {
   "codemirror_mode": "java",
   "file_extension": ".jshell",
   "mimetype": "text/x-java-source",
   "name": "Java",
   "pygments_lexer": "java",
   "version": "17.0.11+9-LTS"
  },
  "orig_nbformat": 4
 },
 "nbformat": 4,
 "nbformat_minor": 2
}
