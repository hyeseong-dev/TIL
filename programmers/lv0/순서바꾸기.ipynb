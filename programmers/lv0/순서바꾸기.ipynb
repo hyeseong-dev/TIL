{
 "cells": [
  {
   "cell_type": "code",
   "execution_count": null,
   "metadata": {
    "vscode": {
     "languageId": "java"
    }
   },
   "outputs": [],
   "source": [
    "package lv0;\n",
    "\n",
    "public class ChangeOrder {\n",
    "    public int[] solution(int[] num_list, int n) {\n",
    "\n",
    "        int[] answer = new int[num_list.length];  // answer 배열 유지\n",
    "\n",
    "        // 요소를 answer 배열에 직접 복사\n",
    "        System.arraycopy(num_list, n, answer, 0, num_list.length - n);\n",
    "        System.arraycopy(num_list, 0, answer, num_list.length - n, n);\n",
    "\n",
    "        return answer;\n",
    "    }\n",
    "\n",
    "    public static void main(String[] args) {\n",
    "        int[] arr = {2,1,6};\n",
    "        int n = 1;\n",
    "\n",
    "//        int[] arr = {5, 2, 1, 7, 5};\n",
    "//        int n = 3;\n",
    "\n",
    "        ChangeOrder getElementToN = new ChangeOrder();\n",
    "\n",
    "        int[] result = getElementToN.solution(arr, n);\n",
    "        for (int i : result){\n",
    "            System.out.println(i);\n",
    "        }\n",
    "    }\n",
    "}\n"
   ]
  }
 ],
 "metadata": {
  "language_info": {
   "name": "python"
  },
  "orig_nbformat": 4
 },
 "nbformat": 4,
 "nbformat_minor": 2
}
