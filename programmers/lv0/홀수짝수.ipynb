{
 "cells": [
  {
   "attachments": {},
   "cell_type": "markdown",
   "metadata": {},
   "source": [
    "## 홀수 vs 짝수 문제\n",
    "\n",
    "**문제:**\n",
    "\n",
    "정수 리스트 `num_list`가 주어집니다. 가장 첫 번째 원소를 1번 원소라고 할 때, 홀수 번째 원소들의 합과 짝수 번째 원소들의 합 중 큰 값을 반환하도록 `solution` 함수를 완성하세요. 두 값이 같으면 그 값을 반환합니다.\n",
    "\n",
    "**제한 조건:**\n",
    "\n",
    "* `num_list`의 길이는 5 이상 50 이하입니다.\n",
    "* `num_list`의 원소는 -9 이상 9 이하입니다.\n",
    "\n",
    "**입출력 예시:**\n",
    "\n",
    "| `num_list` | `result` | 설명 |\n",
    "|---|---|---|\n",
    "| `[4, 2, 6, 1, 7, 6]` | 17 | 홀수 번째 원소들의 합: 4 + 6 + 7 = 17, 짝수 번째 원소들의 합: 2 + 1 + 6 = 9, 17 > 9 이므로 17을 반환합니다. |\n",
    "| `[-1, 2, 5, 6, 3]` | 8 | 홀수 번째 원소들의 합: -1 + 5 + 3 = 7, 짝수 번째 원소들의 합: 2 + 6 = 8, 8 > 7 이므로 8을 반환합니다. |\n",
    "\n",
    "**문제 풀이:**\n",
    "\n",
    "1. **홀수 번째 및 짝수 번째 원소 합 계산:**\n",
    "   - `odd_sum` 변수를 선언하여 홀수 번째 원소들의 합을 저장합니다.\n",
    "   - `even_sum` 변수를 선언하여 짝수 번째 원소들의 합을 저장합니다.\n",
    "   - `for` 루프를 사용하여 `num_list`를 반복합니다.\n",
    "     - 루프 인덱스 `i`를 사용하여 홀수 번째/짝수 번째 원소를 구분합니다.\n",
    "       - `i`가 홀수인 경우:\n",
    "         - `odd_sum`에 `num_list[i]`를 더합니다.\n",
    "       - `i`가 짝수인 경우:\n",
    "         - `even_sum`에 `num_list[i]`를 더합니다.\n",
    "2. **최대 합 계산 및 반환:**\n",
    "   - `odd_sum`과 `even_sum`을 비교하여 더 큰 값을 `max_sum`에 저장합니다.\n",
    "   - `max_sum`을 반환합니다.\n",
    "\n",
    "\n",
    "**문제 분석 및 추가 정보:**\n",
    "\n",
    "* 이 문제는 홀수 번째 원소와 짝수 번째 원소의 합을 비교하여 더 큰 값을 찾는 알고리즘 문제입니다.\n",
    "* 코드는 `for` 루프와 조건문을 사용하여 홀수 번째/짝수 번째 원소를 구분하고 합을 계산합니다.\n",
    "* 마지막으로, 두 합을 비교하여 최대 값을 반환합니다.\n",
    "* 이 문제는 배열 처리, 조건 분기, 수치 계산 등의 기본적인 프로그래밍 개념을 활용합니다.\n",
    "\n",
    "**주의 사항:**\n",
    "\n",
    "* 코드는 예시이며, 실제 문제 해결 상황에 따라 변경될 수 있습니다.\n",
    "* 코드 작성 시, 입력값의 유효성 검사, 오류 처리 등을 고려해야 합니다.\n",
    "* 다양한 프로그래밍 언어로 문제를 해결할 수 있습니다.\n"
   ]
  },
  {
   "attachments": {},
   "cell_type": "markdown",
   "metadata": {},
   "source": []
  },
  {
   "cell_type": "code",
   "execution_count": null,
   "metadata": {
    "vscode": {
     "languageId": "java"
    }
   },
   "outputs": [],
   "source": [
    "public class Solution {\n",
    "\n",
    "        public int solution(int[] numList) {\n",
    "            int oddSum = 0;\n",
    "            int evenSum = 0;\n",
    "\n",
    "            for (int i = 0; i< numList.length; i++){\n",
    "                if(i % 2 == 1){\n",
    "                    oddSum += numList[i];\n",
    "                }else{\n",
    "                    evenSum += numList[i];\n",
    "                }\n",
    "            }\n",
    "            return Math.max(oddSum, evenSum);\n",
    "\n",
    "        }\n",
    "\n",
    "        public static void main(String[] args){\n",
    "            Group5 sol = new Group5();\n",
    "\n",
    "            String[] names = {\"nami\", \"ahri\", \"jayce\", \"garen\", \"ivern\", \"vex\", \"jinx\"};\n",
    "            ArrayList<String> result = sol.solution(names);\n",
    "\n",
    "            for(String name: result)\n",
    "                System.out.println(name);\n",
    "        }\n",
    "    }\n",
    "\n",
    "\n"
   ]
  }
 ],
 "metadata": {
  "language_info": {
   "name": "python"
  },
  "orig_nbformat": 4
 },
 "nbformat": 4,
 "nbformat_minor": 2
}
