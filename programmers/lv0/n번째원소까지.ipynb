{
 "cells": [
  {
   "cell_type": "code",
   "execution_count": null,
   "metadata": {
    "vscode": {
     "languageId": "java"
    }
   },
   "outputs": [],
   "source": [
    "    public int[] solution(int[] num_list, int n) {\n",
    "        int[] answer = new int[n];\n",
    "\n",
    "        for(int i=0; i<n; i++){\n",
    "            answer[i] = num_list[i];\n",
    "        }\n",
    "\n",
    "        return answer;\n",
    "    }"
   ]
  }
 ],
 "metadata": {
  "language_info": {
   "name": "python"
  },
  "orig_nbformat": 4
 },
 "nbformat": 4,
 "nbformat_minor": 2
}
