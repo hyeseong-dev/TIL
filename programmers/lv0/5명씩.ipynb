{
 "cells": [
  {
   "attachments": {},
   "cell_type": "markdown",
   "metadata": {},
   "source": [
    "\n",
    "## 5명씩 그룹 나누기 문제\n",
    "\n",
    "**문제 설명**\n",
    "\n",
    "최대 5명씩 탑승가능한 놀이기구를 타기 위해 줄을 서있는 사람들의 이름이 담긴 문자열 리스트 `names`가 주어집니다. 앞에서 부터 5명씩 묶은 그룹의 가장 앞에 서있는 사람들의 이름을 담은 리스트를 `return`하도록 `solution` 함수를 완성해주세요. 마지막 그룹이 5명이 되지 않더라도 가장 앞에 있는 사람의 이름을 포함합니다.\n",
    "\n",
    "**제약 조건**\n",
    "\n",
    "- 5 ≤ `names`의 길이 ≤ 30\n",
    "- 1 ≤ `names`의 원소의 길이 ≤ 10\n",
    "- `names`의 원소는 영어 알파벳 소문자로만 이루어져 있습니다.\n",
    "\n",
    "**입출력 예**\n",
    "\n",
    "| `names` | `result` |\n",
    "|---|---|\n",
    "| [\"nami\", \"ahri\", \"jayce\", \"garen\", \"ivern\", \"vex\", \"jinx\"] | [\"nami\", \"vex\"] |\n",
    "\n",
    "**입출력 예 설명**\n",
    "\n",
    "입출력 예 #1\n",
    "\n",
    "앞에서부터 5명씩 두 그룹으로 묶을 수 있습니다. `[\"nami\", \"ahri\", \"jayce\", \"garen\", \"ivern\"]`, `[\"vex\", \"jinx\"]` 이 두 그룹에서 가장 앞에 서있는 사람들의 이름을 담은 리스트인 `[\"nami\", \"vex\"]`를 `return`합니다.\n",
    "\n",
    "**주의 사항:**\n",
    "\n",
    "- 이 코드는 `names` 리스트에 중복된 이름이 없는 경우를 가정합니다. 만약 중복된 이름이 있다면, 적절하게 처리해야 합니다.\n",
    "- 코드는 예시를 위한 기본적인 구현이며, 실제 상황에 맞게 수정될 수 있습니다.\n"
   ]
  },
  {
   "cell_type": "code",
   "execution_count": 7,
   "metadata": {
    "vscode": {
     "languageId": "java"
    }
   },
   "outputs": [
    {
     "name": "stdout",
     "output_type": "stream",
     "text": [
      "nami\n",
      "vex\n"
     ]
    }
   ],
   "source": [
    "package lv0;\n",
    "\n",
    "import java.util.ArrayList;\n",
    "\n",
    "public class Group5 {\n",
    "\n",
    "        public ArrayList<String> solution(String[] names) {\n",
    "            ArrayList<String> answer = new ArrayList<>();\n",
    "\n",
    "            for(int i =0; i<names.length; i+=5){\n",
    "                answer.add(names[i]);\n",
    "            }\n",
    "\n",
    "            return answer;\n",
    "\n",
    "\n",
    "        }\n",
    "\n",
    "        public static void main(String[] args){\n",
    "            Group5 sol = new Group5();\n",
    "\n",
    "            String[] names = {\"nami\", \"ahri\", \"jayce\", \"garen\", \"ivern\", \"vex\", \"jinx\"};\n",
    "            ArrayList<String> result = sol.solution(names);\n",
    "\n",
    "            for(String name: result)\n",
    "                System.out.println(name);\n",
    "        }\n",
    "    }\n",
    "\n",
    "\n"
   ]
  },
  {
   "cell_type": "code",
   "execution_count": null,
   "metadata": {
    "vscode": {
     "languageId": "java"
    }
   },
   "outputs": [],
   "source": []
  }
 ],
 "metadata": {
  "kernelspec": {
   "display_name": "Java",
   "language": "java",
   "name": "java"
  },
  "language_info": {
   "codemirror_mode": "java",
   "file_extension": ".jshell",
   "mimetype": "text/x-java-source",
   "name": "Java",
   "pygments_lexer": "java",
   "version": "17.0.11+9-LTS"
  },
  "orig_nbformat": 4
 },
 "nbformat": 4,
 "nbformat_minor": 2
}
