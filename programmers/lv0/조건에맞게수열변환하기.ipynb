{
 "cells": [
  {
   "cell_type": "code",
   "execution_count": 12,
   "metadata": {
    "vscode": {
     "languageId": "java"
    }
   },
   "outputs": [
    {
     "name": "stdout",
     "output_type": "stream",
     "text": [
      "2\n",
      "2\n",
      "6\n",
      "50\n",
      "99\n",
      "49\n"
     ]
    },
    {
     "ename": "",
     "evalue": "",
     "output_type": "error",
     "traceback": [
      "\u001b[1;31mThe Kernel crashed while executing code in the the current cell or a previous cell. Please review the code in the cell(s) to identify a possible cause of the failure. Click <a href='https://aka.ms/vscodeJupyterKernelCrash'>here</a> for more info. View Jupyter <a href='command:jupyter.viewOutput'>log</a> for further details."
     ]
    }
   ],
   "source": [
    "class Solution {\n",
    "    public int[] solution(int[] arr) {\n",
    "        int[] answer = new int[arr.length];\n",
    "\n",
    "        for(int i = 0; i < arr.length; i++){\n",
    "            int num = arr[i];\n",
    "            if (num >= 50 && num % 2 == 0){\n",
    "                answer[i] = num / 2;\n",
    "            }else if (num < 50 && num % 2 != 0){\n",
    "                answer[i] = (num*2);\n",
    "            }else\n",
    "                answer[i] = num;\n",
    "            }\n",
    "        }\n",
    "        return answer;\n",
    "    }\n",
    "    public static void main(){\n",
    "        Solution sol = new Solution();\n",
    "        int[] arr = {1, 2, 3, 100, 99, 98};\n",
    "        int[] result = sol.solution(arr);\n",
    "        for(int num: result)\n",
    "            System.out.println(num);\n",
    "    }\n",
    "}\n",
    "\n",
    "Solution.main();\n"
   ]
  },
  {
   "cell_type": "code",
   "execution_count": null,
   "metadata": {
    "vscode": {
     "languageId": "java"
    }
   },
   "outputs": [],
   "source": [
    "if(1 or 2):\n",
    "    print(\"hello\")"
   ]
  }
 ],
 "metadata": {
  "kernelspec": {
   "display_name": "Java",
   "language": "java",
   "name": "java"
  },
  "language_info": {
   "codemirror_mode": "java",
   "file_extension": ".jshell",
   "mimetype": "text/x-java-source",
   "name": "Java",
   "pygments_lexer": "java",
   "version": "17.0.11+9-LTS"
  },
  "orig_nbformat": 4
 },
 "nbformat": 4,
 "nbformat_minor": 2
}
