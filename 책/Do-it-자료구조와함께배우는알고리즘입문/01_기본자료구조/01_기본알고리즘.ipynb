{
 "cells": [
  {
   "attachments": {},
   "cell_type": "markdown",
   "id": "90fb3f78",
   "metadata": {},
   "source": [
    "### 세 값의 최댓값 구하기 - simple warm-up"
   ]
  },
  {
   "cell_type": "code",
   "execution_count": 2,
   "id": "075650e3-7ca8-46d2-bee0-ba1e18dc9a71",
   "metadata": {
    "vscode": {
     "languageId": "java"
    }
   },
   "outputs": [
    {
     "name": "stdout",
     "output_type": "stream",
     "text": [
      "세 정수 최대값을 구합니다.\n",
      "a의 값: 1\n",
      "b의 값: 2\n",
      "c의 값: 3\n",
      "최대 값: 3\n"
     ]
    }
   ],
   "source": [
    "import java.util.Scanner;\n",
    "\n",
    "class Max3{\n",
    "    public static void main(){\n",
    "        Scanner stdIn = new Scanner(System.in);\n",
    "\n",
    "        System.out.println(\"세 정수 최대값을 구합니다.\");\n",
    "        System.out.print(\"a의 값: \");  \n",
    "        int a = stdIn.nextInt();\n",
    "        System.out.println(a);  \n",
    "\n",
    "        System.out.print(\"b의 값: \");\n",
    "        int b = stdIn.nextInt();\n",
    "        System.out.println(b);\n",
    "\n",
    "        System.out.print(\"c의 값: \");\n",
    "        int c = stdIn.nextInt();\n",
    "        System.out.println(c);\n",
    "\n",
    "        int max = a;\n",
    "        if (b > max) max = b;\n",
    "        if (c > max) max = c;\n",
    "\n",
    "        System.out.println(\"최대 값: \" + max);\n",
    "    }\n",
    "}\n",
    "\n",
    "Max3.main()"
   ]
  },
  {
   "attachments": {},
   "cell_type": "markdown",
   "id": "66521081-0d49-4e5a-99aa-10494179ec4f",
   "metadata": {
    "vscode": {
     "languageId": "java"
    }
   },
   "source": [
    "위 코드는 아래와 같습니다. \n",
    "1. max에 a값을 넣습니다. \n",
    "2. b값이 max보다 크면 max에 b값을 넣습니다. \n",
    "3. c값이 max보다 크면 max에 c값을 넣습니다. \n",
    "\n",
    "세 문장이 아래로 나란히 있다면 이 문장은 순서대로 실행됩니다.    \n",
    "이렇게 여러 문장(프로세스)이 순차적으로 실행되는 구조를 `순차`(`sequential`)구조라고 합니다. "
   ]
  },
  {
   "attachments": {},
   "cell_type": "markdown",
   "id": "888fd3f2",
   "metadata": {},
   "source": [
    "### Scanner 클래스에 포함된 next 메서드 \n",
    "|메서드|자료형|입력값의 범위|\n",
    "|:---|:---:|:---|\n",
    "|nextBoolean()|boolean|true 또는 false|\n",
    "|nextByte()|byte|-128 ~ +127|\n",
    "|nextShort()|short|-32768 ~ +32767|\n",
    "|nextInt()|int|-2147483648 ~ +2147483647|\n",
    "|nextLong()|long|-9223372036854775808 ~ +9223372036854775807|\n",
    "|nextFloat()|float|-1.4E-45 ~ +3.4028235E38|\n",
    "|nextDouble()|double|-4.9E-324 ~ +1.7976931348623157E308|\n",
    "|next()|String|문자열(공백, 줄 바꿈 문자로 구분)|\n",
    "|nextLine()|String|문자열1줄|"
   ]
  },
  {
   "attachments": {},
   "cell_type": "markdown",
   "id": "b4a8cdbf",
   "metadata": {},
   "source": []
  },
  {
   "cell_type": "code",
   "execution_count": 1,
   "id": "8ae7d6f2",
   "metadata": {
    "vscode": {
     "languageId": "java"
    }
   },
   "outputs": [
    {
     "name": "stdout",
     "output_type": "stream",
     "text": [
      "Integer minimum value: -2147483648\n",
      "Integer maximum value: 2147483647\n",
      "Byte minimum value: -128\n",
      "Byte maximum value: 127\n",
      "Short minimum value: -32768\n",
      "Short maximum value: 32767\n",
      "Long minimum value: -9223372036854775808\n",
      "Long maximum value: 9223372036854775807\n",
      "Float minimum value: 1.4E-45\n",
      "Float maximum value: 3.4028235E38\n",
      "Double minimum value: 4.9E-324\n",
      "Double maximum value: 1.7976931348623157E308\n",
      "Character minimum value: 0\n",
      "Character maximum value: 65535\n",
      "Boolean values: true and false\n"
     ]
    }
   ],
   "source": [
    "public class PrimitiveDataTypesRange {\n",
    "\n",
    "    public static void main() {\n",
    "        System.out.println(\"Integer minimum value: \" + Integer.MIN_VALUE);\n",
    "        System.out.println(\"Integer maximum value: \" + Integer.MAX_VALUE);\n",
    "\n",
    "        System.out.println(\"Byte minimum value: \" + Byte.MIN_VALUE);\n",
    "        System.out.println(\"Byte maximum value: \" + Byte.MAX_VALUE);\n",
    "\n",
    "        System.out.println(\"Short minimum value: \" + Short.MIN_VALUE);\n",
    "        System.out.println(\"Short maximum value: \" + Short.MAX_VALUE);\n",
    "\n",
    "        System.out.println(\"Long minimum value: \" + Long.MIN_VALUE);\n",
    "        System.out.println(\"Long maximum value: \" + Long.MAX_VALUE);\n",
    "\n",
    "        System.out.println(\"Float minimum value: \" + Float.MIN_VALUE);\n",
    "        System.out.println(\"Float maximum value: \" + Float.MAX_VALUE);\n",
    "\n",
    "        System.out.println(\"Double minimum value: \" + Double.MIN_VALUE);\n",
    "        System.out.println(\"Double maximum value: \" + Double.MAX_VALUE);\n",
    "\n",
    "        System.out.println(\"Character minimum value: \" + (int) Character.MIN_VALUE);\n",
    "        System.out.println(\"Character maximum value: \" + (int) Character.MAX_VALUE);\n",
    "\n",
    "        System.out.println(\"Boolean values: \" + Boolean.TRUE + \" and \" + Boolean.FALSE);\n",
    "    }\n",
    "}\n",
    "\n",
    "PrimitiveDataTypesRange.main()"
   ]
  },
  {
   "attachments": {},
   "cell_type": "markdown",
   "id": "3da3ac60",
   "metadata": {},
   "source": [
    "### 연산자 종류 \n",
    "`연산자는 피연산자의 수에 따라 세 종류가 있습니다.`\n",
    "\n",
    "- 단항 연산자(unary operator) : 피연산자 1개 -> `a++`\n",
    "- 2항 연산자(binary operator) : 피연산자 2개 -> `a < b`\n",
    "- 3항 연산자(tenary operator) : 피연산자 3개 -> `a ? b : c`"
   ]
  },
  {
   "attachments": {},
   "cell_type": "markdown",
   "id": "3f97c3fb",
   "metadata": {},
   "source": []
  }
 ],
 "metadata": {
  "kernelspec": {
   "display_name": "Java",
   "language": "java",
   "name": "java"
  },
  "language_info": {
   "codemirror_mode": "java",
   "file_extension": ".jshell",
   "mimetype": "text/x-java-source",
   "name": "Java",
   "pygments_lexer": "java",
   "version": "17.0.11+9-LTS"
  }
 },
 "nbformat": 4,
 "nbformat_minor": 5
}
