{
 "cells": [
  {
   "attachments": {},
   "cell_type": "markdown",
   "metadata": {},
   "source": [
    "선형 검색(Linear Search)은 가장 간단한 검색 알고리즘 중 하나로, 배열이나 리스트에서 특정한 값을 찾기 위해 사용됩니다. 이 알고리즘의 작동 원리는 시작부터 끝까지 하나씩 모든 요소를 순차적으로 확인하는 것입니다.\n",
    "\n",
    "### 선형 검색의 과정\n",
    "1. 배열의 첫 번째 요소부터 시작하여, 찾고자 하는 값과 요소의 값을 차례대로 비교합니다.\n",
    "2. 찾고자 하는 값과 같은 요소를 발견하면 그 위치를 반환합니다.\n",
    "3. 배열의 끝까지 찾고자 하는 값과 일치하는 요소가 없으면, 검색 실패를 나타내는 특정 값을 반환합니다 (예: -1).\n",
    "\n",
    "### 선형 검색의 특징\n",
    "- **단순성:** 알고리즘이 매우 단순하여 구현하기 쉽습니다.\n",
    "- **비효율성:** 최악의 경우, 모든 요소를 검사해야 하므로 시간 복잡도가 O(n)입니다. n은 배열의 길이입니다.\n",
    "- **무정렬 배열:** 선형 검색은 배열이 정렬되어 있지 않아도 적용할 수 있는 장점이 있습니다.\n",
    "\n",
    "### 사용 사례\n",
    "선형 검색은 데이터가 많지 않거나, 정렬되지 않은 데이터셋에서 비교적 효율적으로 사용할 수 있습니다. 그러나 데이터 양이 많고 성능이 중요한 상황에서는 보다 효율적인 검색 알고리즘(예: 이진 검색)을 고려하는 것이 좋습니다.\n",
    "\n",
    "선형 검색의 구현 예를 들어보겠습니다:\n"
   ]
  },
  {
   "cell_type": "code",
   "execution_count": 17,
   "metadata": {
    "vscode": {
     "languageId": "java"
    }
   },
   "outputs": [
    {
     "name": "stdout",
     "output_type": "stream",
     "text": [
      "요솟수: \n",
      "x[0]: \n",
      "x[1]: \n",
      "검색할 값: \n",
      "그 값의 요소가 없습니다.\n"
     ]
    }
   ],
   "source": [
    "import java.util.Scanner;\n",
    "\n",
    "class SeqSearchSen {\n",
    "    public static void main() {\n",
    "        Scanner stdIn = new Scanner(System.in);\n",
    "\n",
    "        System.out.println(\"요솟수: \");\n",
    "        int size = stdIn.nextInt();\n",
    "        int[] arr = new int[size + 1];  // 요솟수가 size + 1 인 배열\n",
    "\n",
    "        for (int i = 0; i < size; i++) {\n",
    "            System.out.println(\"x[\" + i + \"]: \");\n",
    "            arr[i] = stdIn.nextInt();\n",
    "        }\n",
    "\n",
    "        System.out.println(\"검색할 값: \");\n",
    "        int key = stdIn.nextInt();\n",
    "\n",
    "        int index = seqSearchSen(arr, size, key);\n",
    "\n",
    "        if (index == -1)\n",
    "            System.out.println(\"그 값의 요소가 없습니다.\");\n",
    "        else\n",
    "            System.out.println(\"그 값은 x[\" + index + \"]에 있습니다.\");\n",
    "    }\n",
    "\n",
    "    static int seqSearchSen(int[] arr, int size, int key){\n",
    "        int i = 0;\n",
    "\n",
    "        arr[size] = key; // 보초를 추가 \n",
    "\n",
    "        while(true){\n",
    "            if (arr[i] == key)\n",
    "                break;\n",
    "            i++;\n",
    "        }\n",
    "        return i == size ? -1 : i;\n",
    "    }\n",
    "}\n",
    "SeqSearchSen.main()"
   ]
  },
  {
   "cell_type": "code",
   "execution_count": 19,
   "metadata": {
    "vscode": {
     "languageId": "java"
    }
   },
   "outputs": [
    {
     "name": "stdout",
     "output_type": "stream",
     "text": [
      "요솟수: \n",
      "x[0]: \n",
      "x[1]: \n",
      "검색할 값: \n",
      "그 값의 요소가 없습니다.\n"
     ]
    }
   ],
   "source": [
    "// 위 SeqSearchSen클래스의 seqSearchSenFor 메소드의 while 문 대시 for 문을 사용하여 수정한 코드를 작성한 것입니다.\n",
    "import java.util.Scanner;\n",
    "\n",
    "class SeqSearchSenFor {\n",
    "    public static void main() {\n",
    "        Scanner stdIn = new Scanner(System.in);\n",
    "\n",
    "        System.out.println(\"요솟수: \");\n",
    "        int size = stdIn.nextInt();\n",
    "        int[] arr = new int[size + 1];  // 요솟수가 size + 1 인 배열\n",
    "\n",
    "        for (int i = 0; i < size; i++) {\n",
    "            System.out.println(\"x[\" + i + \"]: \");\n",
    "            arr[i] = stdIn.nextInt();\n",
    "        }\n",
    "\n",
    "        System.out.println(\"검색할 값: \");\n",
    "        int key = stdIn.nextInt();\n",
    "\n",
    "        int index = seqSearchSen(arr, size, key);\n",
    "\n",
    "        if (index == -1)\n",
    "            System.out.println(\"그 값의 요소가 없습니다.\");\n",
    "        else\n",
    "            System.out.println(\"그 값은 x[\" + index + \"]에 있습니다.\");\n",
    "    }\n",
    "\n",
    "    static int seqSearchSen(int[] arr, int size, int key){\n",
    "        int i = 0;\n",
    "\n",
    "        arr[size] = key; // 보초를 추가 \n",
    "\n",
    "\t\tfor (i = 0 ; arr[i] != key; i++);\n",
    "\t\treturn i == size ? -1 : i;\n",
    "    }\n",
    "}\n",
    "SeqSearchSen.main()"
   ]
  },
  {
   "cell_type": "code",
   "execution_count": 5,
   "metadata": {
    "vscode": {
     "languageId": "java"
    }
   },
   "outputs": [
    {
     "data": {
      "text/plain": [
       "0"
      ]
     },
     "execution_count": 5,
     "metadata": {},
     "output_type": "execute_result"
    }
   ],
   "source": []
  },
  {
   "cell_type": "code",
   "execution_count": 1,
   "metadata": {
    "vscode": {
     "languageId": "java"
    }
   },
   "outputs": [
    {
     "name": "stdout",
     "output_type": "stream",
     "text": [
      "Element found at index: 2\n"
     ]
    }
   ],
   "source": [
    "\n",
    "public class LinearSearch {\n",
    "    public static int linearSearch(int[] array, int key) {\n",
    "        for (int i = 0; i < array.length; i++) {\n",
    "            if (array[i] == key) {\n",
    "                return i;  // 원하는 값의 위치를 반환\n",
    "            }\n",
    "        }\n",
    "        return -1;  // 검색 실패 시 -1 반환\n",
    "    }\n",
    "\n",
    "    public static void main() {\n",
    "        int[] data = {3, 20, 15, 8, 6};\n",
    "        int key = 15;\n",
    "        int result = linearSearch(data, key);\n",
    "        \n",
    "        if (result != -1) {\n",
    "            System.out.println(\"Element found at index: \" + result);\n",
    "        } else {\n",
    "            System.out.println(\"Element not found.\");\n",
    "        }\n",
    "    }\n",
    "}\n",
    "\n",
    "LinearSearch.main()"
   ]
  },
  {
   "cell_type": "code",
   "execution_count": null,
   "metadata": {
    "vscode": {
     "languageId": "java"
    }
   },
   "outputs": [],
   "source": []
  },
  {
   "attachments": {},
   "cell_type": "markdown",
   "metadata": {},
   "source": [
    "### 보초법\n",
    "보초법(Sentinel Search)은 선형 검색을 개선하는 방법 중 하나입니다. 보초법에서는 검색할 값을 배열의 마지막에 추가함으로써, 매번 검색할 때마다 배열의 끝에 도달했는지를 확인하는 과정을 생략할 수 있습니다. 이는 검색 과정을 단순화하고, 조건 검사의 횟수를 줄여 성능을 약간 개선할 수 있습니다.\n",
    "\n",
    "#### 보초법을 이용한 선형 검색 알고리즘 구현\n",
    "1. 검색하려는 키 값을 배열의 마지막에 추가합니다 (보초 추가).\n",
    "2. 배열의 시작부터 검색을 시작하고, 키 값을 찾을 때까지 계속 진행합니다.\n",
    "3. 키 값을 찾았을 경우, 해당 인덱스가 배열의 마지막 인덱스인지 확인합니다. 마지막 인덱스라면 검색 실패를 의미합니다.\n",
    "4. 마지막 인덱스가 아니면, 해당 인덱스를 반환합니다.\n",
    "\n",
    "아래는 Java로 작성한 보초법을 사용한 선형 검색의 예시 코드입니다:"
   ]
  },
  {
   "cell_type": "code",
   "execution_count": 4,
   "metadata": {
    "vscode": {
     "languageId": "java"
    }
   },
   "outputs": [
    {
     "name": "stdout",
     "output_type": "stream",
     "text": [
      "Element not found.\n"
     ]
    }
   ],
   "source": [
    "public class SentinelSearch {\n",
    "    public static int sentinelSearch(int[] array, int key) {\n",
    "        int last = array[array.length - 1]; // 마지막 요소를 저장\n",
    "        array[array.length - 1] = key;      // 마지막 요소를 키 값으로 대체\n",
    "\n",
    "        int i = 0;\n",
    "        // 무한 루프: 보초가 있기 때문에 배열의 끝을 넘어서는 검사가 필요 없음\n",
    "        while (true) {\n",
    "            if (array[i] == key) {          // 키 값과 일치하는 경우\n",
    "                break;\n",
    "            }\n",
    "            i++;\n",
    "        }\n",
    "\n",
    "        array[array.length - 1] = last;    // 원래 배열을 복구\n",
    "        if (i == array.length - 1 && last != key) {\n",
    "            return -1; // 키 값이 원래 배열에 없는 경우\n",
    "        }\n",
    "        return i;      // 키 값의 인덱스 반환\n",
    "    }\n",
    "\n",
    "    public static void main() {\n",
    "        int[] data = {3, 20, 15, 8, 6};\n",
    "        int key = 11;\n",
    "        int result = sentinelSearch(data, key);\n",
    "\n",
    "        if (result != -1) {\n",
    "            System.out.println(\"Element found at index: \" + result);\n",
    "        } else {\n",
    "            System.out.println(\"Element not found.\");\n",
    "        }\n",
    "    }\n",
    "}\n",
    "\n",
    "SentinelSearch.main()"
   ]
  },
  {
   "attachments": {},
   "cell_type": "markdown",
   "metadata": {},
   "source": []
  },
  {
   "attachments": {},
   "cell_type": "markdown",
   "metadata": {},
   "source": [
    "### 일반 선형검색과 보초법을 사용한 선행검색 차이점\n",
    "\n",
    "`LinearSearch`와 `SentinelSearch`는 모두 배열에서 특정 값을 찾기 위한 선형 검색 기법을 구현하지만, 각각의 접근 방식과 세부 실행에서 차이가 있습니다. 이 두 알고리즘의 주요 차이점을 설명하겠습니다.\n",
    "\n",
    "#### 1. 조건 검사 횟수\n",
    "- **LinearSearch**: 배열의 각 요소를 검사할 때마다 배열의 끝에 도달했는지 확인해야 합니다. 이는 `for` 루프의 조건으로 매번 확인되며, 배열에 키가 없는 경우 배열의 모든 요소를 검사한 후 검색이 종료됩니다.\n",
    "- **SentinelSearch**: 배열의 마지막 요소를 키 값으로 대체하고, 배열의 끝에 도달했는지 확인하는 과정이 필요 없습니다. 이 방법은 보초(키 값)가 항상 마지막에 위치하기 때문에, 보초를 발견할 때까지 무한 루프를 돌며 검사합니다. 이는 루프 내에서 조건 검사를 줄여주어, 키가 배열 내에 없는 경우에도 성능을 약간 향상시킬 수 있습니다.\n",
    "\n",
    "#### 2. 배열 수정\n",
    "- **LinearSearch**: 원본 배열을 수정하지 않고 그대로 사용합니다. 검색 과정에서 데이터의 무결성이 유지됩니다.\n",
    "- **SentinelSearch**: 검색 과정 중에 원본 배열의 마지막 요소를 키 값으로 임시 변경합니다. 이는 검색이 끝난 후 원래 값으로 복원되어야 하는 추가적인 단계를 요구합니다. 이 과정은 배열을 수정하는 것을 허용해야 하는 경우에만 적합합니다.\n",
    "\n",
    "#### 3. 성능\n",
    "- **LinearSearch**: 최악의 경우에도 배열의 모든 요소를 검사해야 하며, 배열의 크기에 비례하는 시간이 소요됩니다. 이진 검색과 같은 다른 알고리즘에 비해 성능이 낮습니다.\n",
    "- **SentinelSearch**: 성능상의 이점은 미비하긴 하지만, 보초를 사용함으로써 조건 검사의 횟수를 줄여 일반적인 선형 검색보다 조금 더 빠를 수 있습니다. 이는 특히 검색 키가 배열 내에 존재하지 않을 때 더 뚜렷합니다.\n",
    "\n",
    "#### 4. 코드의 복잡성\n",
    "- **LinearSearch**: 코드가 간단하고 이해하기 쉽습니다.\n",
    "- **SentinelSearch**: 약간 더 복잡한 로직을 가지고 있으며, 배열을 수정하고 복원해야 하는 추가적인 단계가 포함됩니다.\n",
    "\n",
    "결론적으로, `SentinelSearch`는 특정 상황에서 선형 검색을 소폭 최적화할 수 있으나, 큰 성능 향상을 기대하기는 어렵습니다. 그러나 검색 과정에서 조건 검사를 줄이고자 할 때 유용하게 사용할 수 있습니다."
   ]
  },
  {
   "attachments": {},
   "cell_type": "markdown",
   "metadata": {},
   "source": []
  }
 ],
 "metadata": {
  "kernelspec": {
   "display_name": "Java",
   "language": "java",
   "name": "java"
  },
  "language_info": {
   "codemirror_mode": "java",
   "file_extension": ".jshell",
   "mimetype": "text/x-java-source",
   "name": "Java",
   "pygments_lexer": "java",
   "version": "17.0.11+9-LTS"
  },
  "orig_nbformat": 4
 },
 "nbformat": 4,
 "nbformat_minor": 2
}
