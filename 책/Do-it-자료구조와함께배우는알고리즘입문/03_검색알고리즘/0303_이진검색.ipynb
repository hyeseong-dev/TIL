{
 "cells": [
  {
   "attachments": {},
   "cell_type": "markdown",
   "metadata": {},
   "source": [
    "### 이진 검색 \n",
    "\n",
    "정렬된 배열 또는 리스트에서 특정 항목을 찾는 알고리즘입니다.    \n",
    "배열이나 리스트가 정렬되어 있어야 하며, 중앙값을 기준으로 검색을 반복하여 원하는 항목을 찾습니다.   \n",
    "\n",
    "#### 특징\n",
    "1. `정렬된 데이터에서만` 사용 가능\n",
    "2. 검색 범위를 반으로 줄여가면서 탐색하는 특징이 있음. \n",
    "3. 시간 복잡도는 `O(log n)`으로 매우 효율적\n",
    "\n",
    "##### 장점:\n",
    "\n",
    "1. `평균적으로` 다른 검색 알고리즘에 비해 `빠릅니다`.\n",
    "2. 정렬된 데이터에서 사용 가능하므로 데이터를 `정렬하는 비용`을 `감수`할 경우 효율적입니다.\n",
    "\n",
    "##### 단점:\n",
    "\n",
    "1. 데이터가 정렬되어 있어야 하므로 데이터를 `삽입할 때 추가적인 정렬 과정이 필요`합니다.\n",
    "2. 데이터의 `삽입, 삭제`가 `빈번하게 일어날 경우`에는 `유지보수가 어려울 수` 있습니다."
   ]
  },
  {
   "cell_type": "code",
   "execution_count": 6,
   "metadata": {
    "vscode": {
     "languageId": "java"
    }
   },
   "outputs": [
    {
     "name": "stdout",
     "output_type": "stream",
     "text": [
      "원소 6의 인덱스: 5\n"
     ]
    }
   ],
   "source": [
    "public class BinarySearch{\n",
    "    public static void main(){\n",
    "        int[] arr = {1,2,3,4,5,6,7,8,9,10};\n",
    "        int target = 6; \n",
    "        int index = binarySearch(arr, target);\n",
    "\n",
    "        if(index != 1){\n",
    "            System.out.println(\"원소 \" + target + \"의 인덱스: \" + index);\n",
    "        }else{\n",
    "            System.out.println(\"원소 \" + target + \"의 인덱스: \" + index);\n",
    "        }\n",
    "    }\n",
    "\n",
    "    public static int binarySearch(int[] arr, int target){\n",
    "        int left = 0;\n",
    "        int right = arr.length - 1;\n",
    "\n",
    "        while (left <= right){\n",
    "            int mid = left + (right - left) / 2;\n",
    "\n",
    "            if(arr[mid] == target){     // 찾은 경우 \n",
    "                return mid;\n",
    "\n",
    "            } else if(arr[mid] < target){ // 중간값보다 큰 경우 오른쪽 부분 탐색\n",
    "                left = mid + 1;\n",
    "\n",
    "            } else{    // 중간값보다 작은 경우 왼쪽 부분 탐색\n",
    "                right = mid - 1;\n",
    "            }\n",
    "        }\n",
    "        \n",
    "        // 찾지 못한 경우\n",
    "        return -1;\n",
    "    }\n",
    "}\n",
    "\n",
    "BinarySearch.main()"
   ]
  },
  {
   "cell_type": "code",
   "execution_count": null,
   "metadata": {
    "vscode": {
     "languageId": "java"
    }
   },
   "outputs": [],
   "source": []
  }
 ],
 "metadata": {
  "kernelspec": {
   "display_name": "Java",
   "language": "java",
   "name": "java"
  },
  "language_info": {
   "codemirror_mode": "java",
   "file_extension": ".jshell",
   "mimetype": "text/x-java-source",
   "name": "Java",
   "pygments_lexer": "java",
   "version": "17.0.11+9-LTS"
  },
  "orig_nbformat": 4
 },
 "nbformat": 4,
 "nbformat_minor": 2
}
