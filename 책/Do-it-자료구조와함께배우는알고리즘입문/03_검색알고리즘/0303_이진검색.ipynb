{
 "cells": [
  {
   "attachments": {},
   "cell_type": "markdown",
   "metadata": {},
   "source": [
    "### 이진 검색 \n",
    "\n",
    "정렬된 배열 또는 리스트에서 특정 항목을 찾는 알고리즘입니다.    \n",
    "배열이나 리스트가 정렬되어 있어야 하며, 중앙값을 기준으로 검색을 반복하여 원하는 항목을 찾습니다.   \n",
    "\n",
    "#### 특징\n",
    "1. `정렬된 데이터에서만` 사용 가능\n",
    "2. 검색 범위를 반으로 줄여가면서 탐색하는 특징이 있음. \n",
    "3. 시간 복잡도는 `O(log n)`으로 매우 효율적\n",
    "\n",
    "##### 장점:\n",
    "\n",
    "1. `평균적으로` 다른 검색 알고리즘에 비해 `빠릅니다`.\n",
    "2. 정렬된 데이터에서 사용 가능하므로 데이터를 `정렬하는 비용`을 `감수`할 경우 효율적입니다.\n",
    "\n",
    "##### 단점:\n",
    "\n",
    "1. 데이터가 정렬되어 있어야 하므로 데이터를 `삽입할 때 추가적인 정렬 과정이 필요`합니다.\n",
    "2. 데이터의 `삽입, 삭제`가 `빈번하게 일어날 경우`에는 `유지보수가 어려울 수` 있습니다."
   ]
  },
  {
   "cell_type": "code",
   "execution_count": 6,
   "metadata": {
    "vscode": {
     "languageId": "java"
    }
   },
   "outputs": [
    {
     "name": "stdout",
     "output_type": "stream",
     "text": [
      "원소 6의 인덱스: 5\n"
     ]
    }
   ],
   "source": [
    "public class BinarySearch{\n",
    "    public static void main(){\n",
    "        int[] arr = {1,2,3,4,5,6,7,8,9,10};\n",
    "        int target = 6; \n",
    "        int index = binarySearch(arr, target);\n",
    "\n",
    "        if(index != 1){\n",
    "            System.out.println(\"원소 \" + target + \"의 인덱스: \" + index);\n",
    "        }else{\n",
    "            System.out.println(\"원소 \" + target + \"의 인덱스: \" + index);\n",
    "        }\n",
    "    }\n",
    "\n",
    "    public static int binarySearch(int[] arr, int target){\n",
    "        int left = 0;\n",
    "        int right = arr.length - 1;\n",
    "\n",
    "        while (left <= right){\n",
    "            int mid = left + (right - left) / 2;\n",
    "\n",
    "            if(arr[mid] == target){     // 찾은 경우 \n",
    "                return mid;\n",
    "\n",
    "            } else if(arr[mid] < target){ // 중간값보다 큰 경우 오른쪽 부분 탐색\n",
    "                left = mid + 1;\n",
    "\n",
    "            } else{    // 중간값보다 작은 경우 왼쪽 부분 탐색\n",
    "                right = mid - 1;\n",
    "            }\n",
    "        }\n",
    "        \n",
    "        // 찾지 못한 경우\n",
    "        return -1;\n",
    "    }\n",
    "}\n",
    "\n",
    "BinarySearch.main()"
   ]
  },
  {
   "cell_type": "code",
   "execution_count": null,
   "metadata": {
    "vscode": {
     "languageId": "java"
    }
   },
   "outputs": [],
   "source": []
  },
  {
   "attachments": {},
   "cell_type": "markdown",
   "metadata": {},
   "source": [
    "### 연습문제 \n",
    "\n",
    "이진 검색 알고리즘 코드에서 검색할 키값과 같은 값을 같는 요소가 하나 이상일 경우 그 요소 중에서 맨 앞의 요소를 찾지 못할 수 있습니다. 예를 들어 {1, 3, 5, 7, 7, 7, 7, 8, 8, 9, 9}에서 7을 검색하면 중앙에 위치한 a[5]를 검색합니다. 이를 개선하여 키값과 일치하는 맨 앞의 요소를 찾는 binSearchX 메서드를 만들어 봅니다. "
   ]
  },
  {
   "cell_type": "code",
   "execution_count": 13,
   "metadata": {
    "vscode": {
     "languageId": "java"
    }
   },
   "outputs": [
    {
     "name": "stdout",
     "output_type": "stream",
     "text": [
      "결과는 : 7\n"
     ]
    }
   ],
   "source": [
    "// package 예제소스.연습.chap03;\n",
    "\n",
    "import java.util.ArrayList;\n",
    "\n",
    "public class BinSearchX{\n",
    "\n",
    "    private static int binarySearch(int[] arr, int key){\n",
    "        ArrayList<Integer> tempArrayList = new ArrayList<>();\n",
    "\n",
    "        int left = 0;\n",
    "        int right = arr.length - 1 ;\n",
    "\n",
    "        do{\n",
    "            int mid = (left + right) / 2;\n",
    "            if (arr[mid] == key){\n",
    "                for ( ; mid > left; mid--){\n",
    "                    if (arr[mid - 1] < key)\n",
    "                        break;\n",
    "                }\n",
    "                return mid;\n",
    "            }else if(arr[mid] < key){\n",
    "                left = mid + 1;\n",
    "            }else{\n",
    "                right = mid - 1;\n",
    "            }\n",
    "        }while(left <= right);\n",
    "\n",
    "        return -1 ;\n",
    "    }\n",
    "\n",
    "\n",
    "    public static void main() {\n",
    "        int[] arr = {1, 3, 5, 7, 7, 7, 7, 8, 8, 9, 9};\n",
    "        int key = 8;\n",
    "\n",
    "        int result = binarySearch(arr, key);\n",
    "        System.out.println(\"결과는 : \" + result);\n",
    "    }\n",
    "\n",
    "\n",
    "}\n",
    "\n",
    "BinSearchX.main();"
   ]
  },
  {
   "cell_type": "code",
   "execution_count": 19,
   "metadata": {
    "vscode": {
     "languageId": "java"
    }
   },
   "outputs": [
    {
     "name": "stdout",
     "output_type": "stream",
     "text": [
      "원소 4를 찾을 수 없습니다.\n"
     ]
    }
   ],
   "source": [
    "// 위 코드보다 더 개선된 알고리즘 \n",
    "\n",
    "public class BinarySearch {\n",
    "\n",
    "    public static void main() {\n",
    "        int[] arr = {1, 3, 5, 4, 4, 7, 7, 8, 8, 9, 9};\n",
    "        int key = 4;\n",
    "\n",
    "        int result = binSearchX(arr, key);\n",
    "        if (result != -1) {\n",
    "            System.out.println(\"원소 \" + key + \"의 첫 번째 인덱스: \" + result);\n",
    "        } else {\n",
    "            System.out.println(\"원소 \" + key + \"를 찾을 수 없습니다.\");\n",
    "        }\n",
    "    }\n",
    "\n",
    "    public static int binSearchX(int[] arr, int key) {\n",
    "        int left = 0;\n",
    "        int right = arr.length - 1;\n",
    "        int index = -1; // key와 일치하는 맨 앞의 요소 인덱스를 저장할 변수\n",
    "\n",
    "        while (left <= right) {\n",
    "            // int mid = (left + right) / 2         // o\n",
    "            int mid = left + (right - left) / 2; // 바로 윗 라인에서 overflow를 방지 할 수 있음\n",
    "\n",
    "            if (arr[mid] == key) { // 찾은 경우\n",
    "                index = mid; // 일치하는 요소의 인덱스 저장\n",
    "                right = mid - 1; // 왼쪽 부분 배열 탐색을 위해 right를 mid - 1로 업데이트\n",
    "            } else if (arr[mid] < key) { // 중간값보다 큰 경우 오른쪽 부분 탐색\n",
    "                left = mid + 1;\n",
    "            } else { // 중간값보다 작은 경우 왼쪽 부분 탐색\n",
    "                right = mid - 1;\n",
    "            }\n",
    "        }\n",
    "\n",
    "        return index;\n",
    "    }\n",
    "}\n",
    "BinarySearch.main();"
   ]
  },
  {
   "attachments": {},
   "cell_type": "markdown",
   "metadata": {},
   "source": [
    "### java.lang 패키지의 자동 import\n",
    "\n",
    "일반적으로 import 키워드를 이용하여 해당 타입의 이름에 대하여 선언하여 사용 할 수 있습니다.    \n",
    "그러나 `예외`가 있습니다.    \n",
    "   \n",
    "자바 언어와 `밀접하게 연관된` 클래스나 인터페이스 등을 모아 놓은 java.lang 패키지는 형 import를 선언할 필요가 없습니다.   \n",
    "   \n",
    "따라서 이 패키지에 속하는 Integer나 String, System등의 클래스는 형 import를 선언할 필요가 없습니다. 따라서 이 패키지에 속하는 Integer or Stirng, System을 바로 접근하여 사용 할 수 있습니다. \n"
   ]
  },
  {
   "cell_type": "code",
   "execution_count": null,
   "metadata": {
    "vscode": {
     "languageId": "java"
    }
   },
   "outputs": [],
   "source": []
  },
  {
   "attachments": {},
   "cell_type": "markdown",
   "metadata": {},
   "source": [
    "### Arrays.binarySearch에 의한 이진 검색 \n",
    "\n",
    "자바는 이미 이진 검색을 하는 표준 라이브러리를 제공합니다.    \n",
    "`java.util.Arrays` 클래스의 `binarySearch` 메서드입니다.    \n",
    "\n",
    "#### 장점 \n",
    "- 직접 이진검색 메서드를 정의 할 필요가 없음. \n",
    "- 배열 요소의 자료형과 관계없이 검색 가능.\n",
    "\n",
    "#### 종류\n",
    "`Arrays.binarySearch` 메서드에는 여러 오버로드된 버전이 있습니다. 다양한 자료형과 배열 범위에 대해 검색을 수행할 수 있도록 설계되어 있습니다. 아래는 `Arrays.binarySearch` 메서드의 오버로드된 시그니처를 보여주는 표입니다.\n",
    "\n",
    "| 시그니처                                      | 설명                                                           |\n",
    "|-------------------------------------------|----------------------------------------------------------------|\n",
    "| `public static int binarySearch(int[] a, int key)`            | 정수형 배열에서 특정 키값을 검색합니다.                                   |\n",
    "| `public static int binarySearch(long[] a, long key)`          | long형 배열에서 특정 키값을 검색합니다.                                   |\n",
    "| `public static int binarySearch(short[] a, short key)`        | short형 배열에서 특정 키값을 검색합니다.                                  |\n",
    "| `public static int binarySearch(char[] a, char key)`          | char형 배열에서 특정 키값을 검색합니다.                                   |\n",
    "| `public static int binarySearch(byte[] a, byte key)`          | byte형 배열에서 특정 키값을 검색합니다.                                   |\n",
    "| `public static int binarySearch(float[] a, float key)`        | float형 배열에서 특정 키값을 검색합니다.                                  |\n",
    "| `public static int binarySearch(double[] a, double key)`      | double형 배열에서 특정 키값을 검색합니다.                                 |\n",
    "| `public static int binarySearch(Object[] a, Object key)`      | 자연정렬(natural ordering)이 된 배열에서 요소의 대소 관계를 판단하고 검색하는 메서드입니다. 따라서 정수 배열, 문자열 배열에서 검색 할 때 적당함  |\n",
    "| `public static int binarySearch(int[] a, int fromIndex, int toIndex, int key)`     | 정수형 배열의 지정된 범위에서 특정 키값을 검색합니다.                       |\n",
    "| `public static int binarySearch(Object[] a, int fromIndex, int toIndex, Object key)` | 객체 배열의 지정된 범위에서 특정 키값을 검색합니다.  |\n",
    "|`static <T> int binarySearch(T[] a T key, Comparator <? super T> c)`|자연 정렬이 아닌 순서로 나열된 배열에서 검색하는 메서드. 자연정렬을 논리적으로 갖지 않는 클래스의 배열에서 검색할 때 알맞음|\n",
    "\n",
    "이러한 오버로드된 메서드들을 사용하여 다양한 유형의 배열에서 원하는 값을 이진 검색할 수 있습니다.\n",
    "\n",
    "#### 검색에 실패한 경우 \n",
    "\n",
    "`배열 안에 key가 있어야 할 위치(삽입포이트)를 추정할 수 있는 값` 을 반환합니다.    \n",
    "`삽입 포인트`를 `x`라고 할 때, `반환 값`은 `-x-1` 입니다.   \n",
    "\n",
    "검색하기 위해 지정한 key보다 큰 요소 중 첫 번째 요소의 인덱스입니다. \n",
    "만약 배열의 모든 요소가 key보다 작다면 배열의 길이를 `삽입 포인트`로 정합니다. \n",
    "\n",
    "`찾으려는 키가 배열에서 있어어야 할 인덱스를 알 수 있으므로, 만약 그 위치에 없다면 삽입 위치로 지정 할 수 있는 좋은 점이 된다. `\n"
   ]
  },
  {
   "attachments": {},
   "cell_type": "markdown",
   "metadata": {},
   "source": []
  },
  {
   "attachments": {},
   "cell_type": "markdown",
   "metadata": {},
   "source": [
    "### 검색에 실패할 때 삽입 포인트의 값을 출력하는 코드 작성"
   ]
  },
  {
   "cell_type": "code",
   "execution_count": 40,
   "metadata": {
    "vscode": {
     "languageId": "java"
    }
   },
   "outputs": [
    {
     "name": "stdout",
     "output_type": "stream",
     "text": [
      "원소 4를 찾을 수 없습니다. 삽입 포인트: -1\n"
     ]
    }
   ],
   "source": [
    "// \n",
    "\n",
    "public class BinarySearch {\n",
    "    public static void main() {\n",
    "        int[] arr = {5, 7, 15, 28, 29, 32, 39, 58, 68, 72};\n",
    "        int target = 31; \n",
    "        int index = binarySearch(arr, target);\n",
    "\n",
    "        if (index >= 0) {\n",
    "            System.out.println(\"원소 \" + target + \"의 인덱스: \" + index);\n",
    "        } else {\n",
    "            System.out.println(\"원소 \" + target + \"를 찾을 수 없습니다. 삽입 포인트: \" + index);\n",
    "        }\n",
    "    }\n",
    "\n",
    "    public static int binarySearch(int[] arr, int target) {\n",
    "        int left = 0;\n",
    "        int right = arr.length; // Corrected: right should initially point to the length of the array\n",
    "\n",
    "        while (left < right) {\n",
    "            int mid = left + (right - left) / 2;\n",
    "\n",
    "            if (arr[mid] == target) {     // 찾은 경우 \n",
    "                return mid;\n",
    "            } else if (arr[mid] < target) { // 중간값보다 큰 경우 오른쪽 부분 탐색\n",
    "                left = mid + 1;\n",
    "            } else {    // 중간값보다 작은 경우 왼쪽 부분 탐색\n",
    "                right = mid;\n",
    "            }\n",
    "        }\n",
    "        \n",
    "        // 찾지 못한 경우\n",
    "        return -(left + 1);\n",
    "    }\n",
    "}\n",
    "BinarySearch.main()"
   ]
  },
  {
   "cell_type": "code",
   "execution_count": 42,
   "metadata": {
    "vscode": {
     "languageId": "java"
    }
   },
   "outputs": [
    {
     "name": "stdout",
     "output_type": "stream",
     "text": [
      "원하는 키워드를 입력하세요.: \n",
      "해당 키워드는 x[0]에 있습니다.\n"
     ]
    }
   ],
   "source": [
    "// 문자열 배열에서의 검색 \n",
    "\n",
    "import java.util.Arrays;\n",
    "import java.util.Scanner;\n",
    "\n",
    "class StringBinarySearch {\n",
    "\n",
    "    public static void main() {\n",
    "        Scanner stdIn = new Scanner(System.in);\n",
    "        String[] x = {    // 자바에서 사용하는 키워드(알파벳 순)\n",
    "            \"abstract\",   \"assert\",       \"boolean\",   \"break\",      \"byte\",\n",
    "            \"case\",       \"catch\",        \"char\",      \"class\",      \"const\",\n",
    "            \"continue\",   \"default\",      \"do\",        \"double\",     \"else\",\n",
    "            \"enum\",       \"extends\",      \"final\",     \"finally\",    \"float\",\n",
    "            \"for\",        \"goto\",         \"if\",        \"implements\", \"import\",\n",
    "            \"instanceof\", \"int\",          \"interface\", \"long\",       \"native\",\n",
    "            \"new\",        \"package\",      \"private\",   \"protected\",  \"public\",\n",
    "            \"return\",     \"short\",        \"static\",    \"strictfp\",   \"super\",\n",
    "            \"switch\",     \"synchronized\", \"this\",      \"throw\",      \"throws\",\n",
    "            \"transient\",  \"try\",          \"void\",      \"volatile\",   \"while\"\n",
    "        };\n",
    "\n",
    "        System.out.println(\"원하는 키워드를 입력하세요.: \"); // 키값을 읽어 들임\n",
    "        String ky = stdIn.next();\n",
    "        \n",
    "        int idx = Arrays.binarySearch(x, ky);      // 배열 x에서 값이 ky인 요소를 검색\n",
    "\n",
    "        if (idx < 0)\n",
    "            System.out.println(\"해당 키워드가 없습니다.\");\n",
    "        else\n",
    "            System.out.println(\"해당 키워드는 x[\" + idx + \"]에 있습니다.\");\n",
    "    }\n",
    "\n",
    "}\n",
    "\n",
    "StringBinarySearch.main()"
   ]
  },
  {
   "attachments": {},
   "cell_type": "markdown",
   "metadata": {},
   "source": [
    "### 연습문제 시력을 내림차순으로 정렬한 신체검사 데이터에서 특정 시력을 가진 사람을 검색하는 프로그램을 작성합니다. "
   ]
  },
  {
   "cell_type": "code",
   "execution_count": 44,
   "metadata": {
    "vscode": {
     "languageId": "java"
    }
   },
   "outputs": [
    {
     "name": "stdout",
     "output_type": "stream",
     "text": [
      "시력 오름차순으로 배열을 정렬합니다.\n",
      "0 박준서 175 2.0\n",
      "1 유서범 171 1.5\n",
      "2 장경오 174 1.2\n",
      "3 황지안 169 0.8\n",
      "4 김찬우 173 0.7\n",
      "5 이수연 168 0.4\n",
      "6 강민하 162 0.3\n",
      "시력이 몇인 사람을 찾고 있나요?: 그 값은 x[6]에 있습니다.\n",
      "찾은 데이터: 강민하 162 0.3\n"
     ]
    }
   ],
   "source": [
    "\n",
    "import java.util.Arrays;\n",
    "import java.util.Scanner;\n",
    "import java.util.Comparator;\n",
    "import java.util.stream.IntStream;\n",
    "\n",
    "class PhysExamSearch {\n",
    "    //--- 신체검사 데이터 ---//\n",
    "    static class PhyscData {\n",
    "        private String name;          // 이름\n",
    "        private int    height;        // 키\n",
    "        private double vision;        // 시력\n",
    "\n",
    "        //--- 생성자(constructor) ---//\n",
    "        public PhyscData(String name, int height, double vision) {\n",
    "            this.name = name;  this.height = height;  this.vision = vision;\n",
    "        }\n",
    "\n",
    "        //--- 문자열로 만들어 반환하는 메서드 --//\n",
    "        public String toString() {\n",
    "            return name + \" \" + height + \" \" + vision;\n",
    "        }\n",
    "\n",
    "        //--- 키의 오름차순으로 정렬하기 위한 comparator ---//\n",
    "        public static final Comparator<PhyscData> HEIGHT_ASC_ORDER = new HeightAscOrderComparator();\n",
    "        public static final Comparator<PhyscData> VISION_ASC_ORDER = new VisionAscOrderComparator();\n",
    "        public static final Comparator<PhyscData> HEIGHT_DESC_ORDER = new HeightDescOrderComparator();\n",
    "        public static final Comparator<PhyscData> VISION_DESC_ORDER = new VisionDescOrderComparator();\n",
    "\n",
    "        private static class HeightAscOrderComparator implements Comparator<PhyscData> {\n",
    "            public int compare(PhyscData d1, PhyscData d2) {\n",
    "                return (d1.height > d2.height) ?  1 :\n",
    "                        (d1.height < d2.height) ? -1 : 0;\n",
    "            }\n",
    "        }\n",
    "\n",
    "        private static class VisionAscOrderComparator implements Comparator<PhyscData> {\n",
    "            public int compare(PhyscData d1, PhyscData d2) {\n",
    "                return (d1.vision > d2.vision) ?  1 :\n",
    "                        (d1.vision < d2.vision) ? -1 : 0;\n",
    "            }\n",
    "        }\n",
    "\n",
    "        private static class HeightDescOrderComparator implements Comparator<PhyscData> {\n",
    "            public int compare(PhyscData d1, PhyscData d2) {\n",
    "                return (d1.height < d2.height) ?  1 :\n",
    "                        (d1.height > d2.height) ? -1 : 0;\n",
    "            }\n",
    "        }\n",
    "\n",
    "        private static class VisionDescOrderComparator implements Comparator<PhyscData> {\n",
    "            public int compare(PhyscData d1, PhyscData d2) {\n",
    "                return (d1.vision < d2.vision) ?  1 :\n",
    "                        (d1.vision >d2.vision) ? -1 : 0;\n",
    "            }\n",
    "        }\n",
    "    }\n",
    "\n",
    "    public static void main() {\n",
    "        Scanner stdIn = new Scanner(System.in);\n",
    "        PhyscData[] x = {                    // 키의 오름차순으로 정렬\n",
    "                new PhyscData(\"강민하\", 162, 0.3),\n",
    "                new PhyscData(\"이수연\", 168, 0.4),\n",
    "                new PhyscData(\"황지안\", 169, 0.8),\n",
    "                new PhyscData(\"유서범\", 171, 1.5),\n",
    "                new PhyscData(\"김찬우\", 173, 0.7),\n",
    "                new PhyscData(\"장경오\", 174, 1.2),\n",
    "                new PhyscData(\"박준서\", 175, 2.0),\n",
    "\n",
    "        };\n",
    "//        System.out.print(\"키가 몇 cm인 사람을 찾고 있나요?: \");\n",
    "\n",
    "\n",
    "        System.out.println(\"시력 오름차순으로 배열을 정렬합니다.\");\n",
    "\n",
    "        // 시력을 기준으로 정렬\n",
    "        Arrays.sort(x, PhyscData.VISION_DESC_ORDER);\n",
    "        IntStream.range(0, x.length)\n",
    "                .mapToObj(index -> index + \" \" + x[index])\n",
    "                .forEach(System.out::println);\n",
    "        System.out.print(\"시력이 몇인 사람을 찾고 있나요?: \");\n",
    "\n",
    "//        int heght = stdIn.nextInt();                // 킷값을 읽어 들임\n",
    "        double vision = stdIn.nextDouble();                // 킷값을 읽어 들임\n",
    "        int idx = Arrays.binarySearch(\n",
    "                x,                                 // 배열 x에서\n",
    "                new PhyscData(\"\", 0, vision),    // 키가 height인 요소를\n",
    "                PhyscData.VISION_DESC_ORDER             // HEIGHT_ORDER에 의해 검색\n",
    "        );\n",
    "\n",
    "        if (idx < 0)\n",
    "            System.out.println(\"그 값의 요소가 없습니다.\");\n",
    "        else {\n",
    "            System.out.println(\"그 값은 x[\" + idx + \"]에 있습니다.\");\n",
    "            System.out.println(\"찾은 데이터: \" + x[idx]);\n",
    "        }\n",
    "    }\n",
    "}\n",
    "\n",
    "PhysExamSearch.main()"
   ]
  },
  {
   "cell_type": "code",
   "execution_count": 59,
   "metadata": {
    "vscode": {
     "languageId": "java"
    }
   },
   "outputs": [
    {
     "name": "stdout",
     "output_type": "stream",
     "text": [
      "height 내림차순으로 배열을 정렬합니다.\n",
      "0 강민하 162 0.3\n",
      "1 이수연 168 0.4\n",
      "2 김찬우 173 0.7\n",
      "3 황지안 169 0.8\n",
      "4 장경오 174 1.2\n",
      "5 유서범 171 1.5\n",
      "6 박준서 175 2.0\n",
      "height 몇인 사람을 찾고 있나요?: 그 값은 x[6]에 있습니다.\n",
      "찾은 데이터: 박준서 175 2.0\n"
     ]
    }
   ],
   "source": [
    "// 위 반복된 코드를 최소화 하기 위해 수정함. \n",
    "\n",
    "\n",
    "import java.util.Arrays;\n",
    "import java.util.Scanner;\n",
    "import java.util.Comparator;\n",
    "import java.util.stream.IntStream;\n",
    "\n",
    "class PhysExamSearch {\n",
    "    //--- 신체검사 데이터 ---//\n",
    "    static class PhyscData {\n",
    "        private String name;          // 이름\n",
    "        private int    height;        // 키\n",
    "        private double vision;        // 시력\n",
    "\n",
    "        //--- 생성자(constructor) ---//\n",
    "        public PhyscData(String name, int height, double vision) {\n",
    "            this.name = name;  this.height = height;  this.vision = vision;\n",
    "        }\n",
    "\n",
    "        //--- 문자열로 만들어 반환하는 메서드 --//\n",
    "        public String toString() {\n",
    "            return name + \" \" + height + \" \" + vision;\n",
    "        }\n",
    "\n",
    "        public static class PhyscDataComparator {\n",
    "                    public static Comparator<PhyscData> orderByHeightAsc() {\n",
    "                        return Comparator.comparingInt(data -> data.height);\n",
    "                    }\n",
    "\n",
    "                    public static Comparator<PhyscData> orderByHeightDesc() {\n",
    "                        return Comparator.comparingInt((PhyscData data) -> data.height).reversed();\n",
    "                    }\n",
    "\n",
    "                    public static Comparator<PhyscData> orderByVisionAsc() {\n",
    "                        return Comparator.comparingDouble(data -> data.vision);\n",
    "                    }\n",
    "\n",
    "                    public static Comparator<PhyscData> orderByVisionDesc() {\n",
    "                        return Comparator.comparingDouble((PhyscData data) -> data.vision).reversed();\n",
    "                    }\n",
    "                }\n",
    "    }\n",
    "\n",
    "    public static void main() {\n",
    "        Scanner stdIn = new Scanner(System.in);\n",
    "        PhyscData[] x = {                    // 키의 오름차순으로 정렬\n",
    "                new PhyscData(\"강민하\", 162, 0.3),\n",
    "                new PhyscData(\"이수연\", 168, 0.4),\n",
    "                new PhyscData(\"황지안\", 169, 0.8),\n",
    "                new PhyscData(\"유서범\", 171, 1.5),\n",
    "                new PhyscData(\"김찬우\", 173, 0.7),\n",
    "                new PhyscData(\"장경오\", 174, 1.2),\n",
    "                new PhyscData(\"박준서\", 175, 2.0),\n",
    "\n",
    "        };\n",
    "//        System.out.print(\"키가 몇 cm인 사람을 찾고 있나요?: \");\n",
    "\n",
    "\n",
    "        System.out.println(\"height 내림차순으로 배열을 정렬합니다.\");\n",
    "\n",
    "        // 시력을 기준으로 정렬\n",
    "        Arrays.sort(x, PhyscData.PhyscDataComparator.orderByVisionAsc());\n",
    "        IntStream.range(0, x.length)\n",
    "                .mapToObj(index -> index + \" \" + x[index])\n",
    "                .forEach(System.out::println);\n",
    "        System.out.print(\"height 몇인 사람을 찾고 있나요?: \");\n",
    "\n",
    "        int height;\n",
    "        double vision;\n",
    "        try {\n",
    "            // height = stdIn.nextInt();  // 키 값 입력\n",
    "            vision = stdIn.nextDouble();  // 키 값 입력\n",
    "        } catch (java.util.InputMismatchException e) {\n",
    "            System.out.println(\"올바른 정수를 입력하세요.\");\n",
    "            return;\n",
    "        }\n",
    "        // double vision = stdIn.nextDouble();                // 킷값을 읽어 들임\n",
    "        int idx = Arrays.binarySearch(\n",
    "                x,                                 // 배열 x에서\n",
    "                new PhyscData(\"\", 0, vision),    // 키가 height인 요소를\n",
    "                PhyscData.PhyscDataComparator.orderByVisionAsc()             // HEIGHT_ORDER에 의해 검색\n",
    "        );\n",
    "\n",
    "        if (idx < 0)\n",
    "            System.out.println(\"그 값의 요소가 없습니다.\");\n",
    "        else {\n",
    "            System.out.println(\"그 값은 x[\" + idx + \"]에 있습니다.\");\n",
    "            System.out.println(\"찾은 데이터: \" + x[idx]);\n",
    "        }\n",
    "    }\n",
    "}\n",
    "\n",
    "PhysExamSearch.main()"
   ]
  },
  {
   "attachments": {},
   "cell_type": "markdown",
   "metadata": {},
   "source": [
    "### 제네릭스 \n",
    "\n",
    "처리 대상의 자료형에 의존하지 않도록 클래스(인터페이스)를 구현하는 기능입니다.    \n",
    "자료형에 의존하지 않으므로 범용으로 사용 할 수 있습니다.    \n",
    "\n",
    "즉, 자료형 문제로부터 자유롭고 안전합니다. 제네릭 클래스와 제네릭 인터페이스는 클래스와 인터페이스 뒤에 <Type>형식의 매개변수를 붙여 선언합니다. \n",
    "\n",
    "```\n",
    "class 클래스 이름 <매개변수>{/* ... */}\n",
    "interface 인터페이스 이름 <매개변수>{/* ... */}\n",
    "```\n",
    "\n",
    "매개변수를 쉼표로 구분하면 여러 개 지정할 수 있습니다. \n",
    "\n",
    "```\n",
    "class 클래스 이름 <매개변수1, 매개변수2>{/* ... */}\n",
    "interface 인터페이스 이름 <매개변수1, 매개변수2>{/* ... */}\n",
    "```\n",
    "\n",
    "| 파라미터 이름을 작성하는 방법은 아래와 같습니다. \n",
    "\n",
    "1. 대문자는 1개를 사용합니다(가급적 소문자는 사용하지 않음)\n",
    "2. 컬렉션 내부 요소의 자료형은 element의 머리글자인 E사용\n",
    "3. 맵 내 키와 벨류는 K와 V로 사용합니다. \n",
    "4. 일반적인 자료형은 T로 사용합니다. \n",
    "\n",
    "| 파라미터에는 와일드 카드를 지정할 수도 있습니다. \n",
    "\n",
    "```\n",
    "<? extends T> : 클래스 T의 하위 클래스를 전달 받습니다.\n",
    "<? super T> : 클래스 T의 상위 클래스를 전달 받습니다.\n",
    "```"
   ]
  },
  {
   "cell_type": "code",
   "execution_count": 71,
   "metadata": {
    "vscode": {
     "languageId": "java"
    }
   },
   "outputs": [
    {
     "ename": "CompilationException",
     "evalue": "",
     "output_type": "error",
     "traceback": [
      "\u001b[1m\u001b[30m|   \u001b[1m\u001b[30m        Box<? extends Fruit> fruitBox = new Box<>(\u001b[0m\u001b[1m\u001b[30m\u001b[41mapples\u001b[0m\u001b[1m\u001b[30m);\u001b[0m",
      "\u001b[1m\u001b[31mcannot find symbol\u001b[0m",
      "\u001b[1m\u001b[31m  symbol:   variable apples\u001b[0m",
      "",
      "\u001b[1m\u001b[30m|   \u001b[1m\u001b[30m        \u001b[0m\u001b[1m\u001b[30m\u001b[41mfruitBox.fruits\u001b[0m\u001b[1m\u001b[30m.add(new Apple());\u001b[0m",
      "\u001b[1m\u001b[31mfruits has private access in Box\u001b[0m",
      "",
      "\u001b[1m\u001b[30m|   \u001b[1m\u001b[30m        fruitBox.fruits.add(\u001b[0m\u001b[1m\u001b[30m\u001b[41mnew Apple()\u001b[0m\u001b[1m\u001b[30m);\u001b[0m",
      "\u001b[1m\u001b[31mincompatible types: Apple cannot be converted to capture#3 of ? extends Fruit\u001b[0m",
      ""
     ]
    }
   ],
   "source": [
    "import java.util.ArrayList;\n",
    "import java.util.List;\n",
    "\n",
    "class Box<T extends Fruit> {\n",
    "    private List<? extends Fruit> fruits;\n",
    "\n",
    "    public Box(List<? extends Fruit> fruits) {\n",
    "        this.fruits = fruits;\n",
    "    }\n",
    "\n",
    "    public void displayFruits() {\n",
    "        for (Fruit fruit : fruits) {\n",
    "            fruit.showInfo();\n",
    "        }\n",
    "    }\n",
    "}\n",
    "\n",
    "public class UpperBoundWildcardExample {\n",
    "    public static void main() {\n",
    "        List<Object> items = new ArrayList<>();\n",
    "        items.add(new Apple());\n",
    "        items.add(new Apple());\n",
    "\n",
    "        Box<? extends Fruit> fruitBox = new Box<>(apples);\n",
    "        fruitBox.displayFruits();\n",
    "\n",
    "        // 이 코드는 컴파일 오류를 발생시킵니다.\n",
    "        fruitBox.fruits.add(new Apple());\n",
    "    }\n",
    "}\n",
    "UpperBoundWildcardExample.main()"
   ]
  },
  {
   "cell_type": "code",
   "execution_count": 68,
   "metadata": {
    "vscode": {
     "languageId": "java"
    }
   },
   "outputs": [
    {
     "name": "stdout",
     "output_type": "stream",
     "text": [
      "Apple\n",
      "Orange\n",
      "Banana\n"
     ]
    }
   ],
   "source": [
    "import java.util.ArrayList;\n",
    "import java.util.List;\n",
    "\n",
    "class Box<T> {\n",
    "    private List<? super T> items;\n",
    "\n",
    "    public Box(List<? super T> items) {\n",
    "        this.items = items;\n",
    "    }\n",
    "\n",
    "    public void addItem(T item) {\n",
    "        items.add(item);\n",
    "    }\n",
    "\n",
    "    public void displayItems() {\n",
    "        for (Object item : items) {\n",
    "            System.out.println(item);\n",
    "        }\n",
    "    }\n",
    "}\n",
    "\n",
    "public class LowerBoundWildcardExample {\n",
    "    public static void main() {\n",
    "        List<Object> items = new ArrayList<>();\n",
    "        items.add(\"Apple\");\n",
    "        items.add(\"Orange\");\n",
    "\n",
    "        Box<Object> box = new Box<>(items);\n",
    "        box.addItem(\"Banana\");\n",
    "        box.displayItems();\n",
    "    }\n",
    "}\n",
    "LowerBoundWildcardExample.main()"
   ]
  },
  {
   "attachments": {},
   "cell_type": "markdown",
   "metadata": {},
   "source": [
    "#### 결과 설명:\n",
    "\n",
    "I. **<? extends T>를 사용한 코드**:\n",
    "   - `Box` 클래스에는 `<? extends Fruit>`를 사용하여 `Apple` 클래스의 리스트를 전달합니다.\n",
    "   - `displayFruits` 메소드는 `Fruit` 클래스의 참조로 요소를 반복하므로 컴파일에 성공합니다.\n",
    "   - 그러나 `fruits` 리스트는 `<? extends Fruit>`로 선언되었으므로, 리스트에 새로운 요소를 추가하는 것은 허용되지 않습니다.\n",
    "\n",
    "   - `<? extends Fruit>`와 같은 와일드카드를 사용하면 해당 리스트에는 `Fruit` 클래스나 그 하위 클래스의 인스턴스들이 포함될 수 있습니다. 따라서 예를 들어 `Box<? extends Fruit>`에는 `Apple`, `Orange`, `Banana`와 같은 과일 클래스의 인스턴스가 포함될 수 있습니다.\n",
    "\n",
    "   - 그러나 이러한 경우에는 해당 리스트가 어떤 하위 클래스의 인스턴스들이 포함될지 확실하지 않습니다. 따라서 컴파일러는 이 리스트에 새로운 요소를 추가하는 것을 허용하지 않습니다. 이는 다음과 같은 이유 때문입니다.\n",
    "\n",
    "   1. **타입 불일치 문제**: \n",
    "      - `Box<? extends Fruit>`의 리스트에는 `Fruit` 클래스와 그 하위 클래스의 인스턴스들이 혼합되어 있을 수 있습니다. 예를 들어, 리스트에는 `Apple`, `Orange`, `Banana` 등이 있을 수 있습니다.\n",
    "      - 그러나 새로운 요소를 추가할 때는 어떤 하위 클래스의 인스턴스를 추가해야 할지 확실하지 않습니다. 이러한 불확실성으로 인해 컴파일러는 새로운 요소의 추가를 거부합니다.\n",
    "\n",
    "   2. **타입 안정성 보장**: \n",
    "      - 만약 컴파일러가 와일드카드에 포함된 하위 클래스 중 어떤 클래스의 인스턴스들이 리스트에 있는지 알 수 없다면, 컴파일러는 타입 안정성을 보장할 수 없습니다. \n",
    "      - 따라서 새로운 요소의 추가를 허용하는 것은 안전하지 않습니다.\n",
    "\n",
    "   - 결국 `<? extends T>`로 선언된 리스트는 읽기 전용(read-only)으로 간주됩니다. 즉, 요소들을 읽는 것은 가능하지만, 새로운 요소를 추가하거나 변경하는 것은 허용되지 않습니다.\n",
    "\n",
    "----\n",
    "\n",
    "II. **<? super T>를 사용한 코드**:\n",
    "   - `Box` 클래스에는 `<? super T>`를 사용하여 `Object` 클래스의 리스트를 전달합니다.\n",
    "   - `addItem` 메소드는 `Object`를 상위 클래스로 하는 리스트에 `String`을 추가하므로 컴파일에 성공합니다.\n",
    "   - `displayItems` 메소드는 `Object` 클래스의 참조로 요소를 반복하므로 컴파일에 성공합니다.\n",
    "   - 이러한 유형의 와일드카드를 사용하면 리스트에 새로운 요소를 추가하는 것이 가능하며, 다양한 타입의 객체를 추가할 수 있습니다.\n",
    "\n",
    "   - <? super T> 와일드카드는 T 클래스나 그의 상위 클래스의 인스턴스들을 포함하는 리스트를 나타냅니다. 따라서 이 리스트에는 T 클래스나 그의 상위 클래스의 인스턴스들만 포함될 수 있습니다.\n",
    "\n",
    "   - <? super T>를 사용하는 경우에는 다음과 같은 이유로 요소의 추가가 가능합니다.\n",
    "\n",
    "   1. 타입 불일치 문제의 해결:\n",
    "\n",
    "      - <? super T>로 선언된 리스트에는 T 클래스나 그의 상위 클래스의 인스턴스들만 포함될 수 있습니다. 이는 요소를 추가할 때 타입 불일치 문제를 방지해줍니다. 즉, 리스트에 추가되는 요소들은 모두 T 클래스나 그의 상위 클래스의 인스턴스들이므로, 타입이 일치하게 됩니다.\n",
    "   \n",
    "   2. 타입 안정성 보장:\n",
    "\n",
    "      - <? super T>로 선언된 리스트는 T 클래스나 그의 상위 클래스의 인스턴스들만 포함할 수 있으므로, 컴파일러는 타입 안정성을 보장할 수 있습니다. 따라서 이러한 리스트에 새로운 요소를 추가하는 것은 안전합니다.   \n",
    "      \n",
    "   - 따라서 <? super T>로 선언된 리스트는 쓰기 가능한(writeable) 리스트로 간주됩니다. 이는 요소들을 읽고 새로운 요소를 추가하거나 변경하는 것이 모두 가능하다는 것을 의미합니다."
   ]
  },
  {
   "attachments": {},
   "cell_type": "markdown",
   "metadata": {},
   "source": []
  }
 ],
 "metadata": {
  "kernelspec": {
   "display_name": "Java",
   "language": "java",
   "name": "java"
  },
  "language_info": {
   "codemirror_mode": "java",
   "file_extension": ".jshell",
   "mimetype": "text/x-java-source",
   "name": "Java",
   "pygments_lexer": "java",
   "version": "17.0.11+9-LTS"
  },
  "orig_nbformat": 4
 },
 "nbformat": 4,
 "nbformat_minor": 2
}
