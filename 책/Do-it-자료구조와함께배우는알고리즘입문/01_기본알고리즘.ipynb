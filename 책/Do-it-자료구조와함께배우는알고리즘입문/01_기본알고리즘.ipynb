{
 "cells": [
  {
   "attachments": {},
   "cell_type": "markdown",
   "id": "90fb3f78",
   "metadata": {},
   "source": [
    "## simple warm-up"
   ]
  },
  {
   "cell_type": "code",
   "execution_count": 2,
   "id": "075650e3-7ca8-46d2-bee0-ba1e18dc9a71",
   "metadata": {
    "vscode": {
     "languageId": "java"
    }
   },
   "outputs": [
    {
     "name": "stdout",
     "output_type": "stream",
     "text": [
      "세 정수 최대값을 구합니다.\n",
      "a의 값: 1\n",
      "b의 값: 2\n",
      "c의 값: 3\n",
      "최대 값: 3\n"
     ]
    }
   ],
   "source": [
    "import java.util.Scanner;\n",
    "\n",
    "class Max3{\n",
    "    public static void main(){\n",
    "        Scanner stdIn = new Scanner(System.in);\n",
    "\n",
    "        System.out.println(\"세 정수 최대값을 구합니다.\");\n",
    "        System.out.print(\"a의 값: \");  \n",
    "        int a = stdIn.nextInt();\n",
    "        System.out.println(a);  \n",
    "\n",
    "        System.out.print(\"b의 값: \");\n",
    "        int b = stdIn.nextInt();\n",
    "        System.out.println(b);\n",
    "\n",
    "        System.out.print(\"c의 값: \");\n",
    "        int c = stdIn.nextInt();\n",
    "        System.out.println(c);\n",
    "\n",
    "        int max = a;\n",
    "        if (b > max) max = b;\n",
    "        if (c > max) max = c;\n",
    "\n",
    "        System.out.println(\"최대 값: \" + max);\n",
    "    }\n",
    "}\n",
    "\n",
    "Max3.main()"
   ]
  },
  {
   "cell_type": "code",
   "execution_count": null,
   "id": "66521081-0d49-4e5a-99aa-10494179ec4f",
   "metadata": {
    "vscode": {
     "languageId": "java"
    }
   },
   "outputs": [],
   "source": []
  }
 ],
 "metadata": {
  "kernelspec": {
   "display_name": "Java",
   "language": "java",
   "name": "java"
  },
  "language_info": {
   "codemirror_mode": "java",
   "file_extension": ".jshell",
   "mimetype": "text/x-java-source",
   "name": "Java",
   "pygments_lexer": "java",
   "version": "17.0.11+9-LTS"
  }
 },
 "nbformat": 4,
 "nbformat_minor": 5
}
